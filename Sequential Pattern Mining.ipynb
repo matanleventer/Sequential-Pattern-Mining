{
  "nbformat": 4,
  "nbformat_minor": 0,
  "metadata": {
    "colab": {
      "provenance": []
    },
    "kernelspec": {
      "name": "python3",
      "display_name": "Python 3"
    },
    "language_info": {
      "name": "python"
    },
    "gpuClass": "standard"
  },
  "cells": [
    {
      "cell_type": "markdown",
      "source": [
        "Guy Yutal - 3080138\n",
        "\n",
        "Matan Leventer - 208447029"
      ],
      "metadata": {
        "id": "V2do7qc7gv3Z"
      }
    },
    {
      "cell_type": "code",
      "source": [
        "pip install spmf"
      ],
      "metadata": {
        "colab": {
          "base_uri": "https://localhost:8080/"
        },
        "id": "jrIHsIP7Bo82",
        "outputId": "25025ca0-1e38-43b1-ea42-e0000e50f861"
      },
      "execution_count": 1,
      "outputs": [
        {
          "output_type": "stream",
          "name": "stdout",
          "text": [
            "Looking in indexes: https://pypi.org/simple, https://us-python.pkg.dev/colab-wheels/public/simple/\n",
            "Requirement already satisfied: spmf in /usr/local/lib/python3.8/dist-packages (1.4)\n"
          ]
        }
      ]
    },
    {
      "cell_type": "code",
      "execution_count": 2,
      "metadata": {
        "id": "DsaapZgw2IMd"
      },
      "outputs": [],
      "source": [
        "import requests\n",
        "import numpy as np\n",
        "import pandas as pd\n",
        "from spmf import Spmf\n",
        "import matplotlib.pyplot as plt"
      ]
    },
    {
      "cell_type": "code",
      "source": [
        "def save_jar():\n",
        "  file_name = \"/usr/local/lib/python3.8/dist-packages/spmf\"\n",
        "  url = \"https://www.philippe-fournier-viger.com/spmf/download-spmfjar.php\"\n",
        "  open(file_name+\"/spmf.jar\",'wb').write(requests.get(url,allow_redirects=True).content)\n",
        "save_jar()"
      ],
      "metadata": {
        "id": "IQg4ACyP7O10"
      },
      "execution_count": 3,
      "outputs": []
    },
    {
      "cell_type": "code",
      "source": [
        "data_1 =pd.read_csv('Question1.csv')"
      ],
      "metadata": {
        "id": "OOotDqL35rHs"
      },
      "execution_count": 4,
      "outputs": []
    },
    {
      "cell_type": "code",
      "source": [
        "data_1.head()"
      ],
      "metadata": {
        "colab": {
          "base_uri": "https://localhost:8080/",
          "height": 206
        },
        "id": "hFEY86KI7QhA",
        "outputId": "c8dfbe76-c68d-4b02-d59b-377c8027c765"
      },
      "execution_count": 5,
      "outputs": [
        {
          "output_type": "execute_result",
          "data": {
            "text/plain": [
              "   Sid  Eid  eventA  eventB  eventC\n",
              "0    1    1   87.32   58.20   32.93\n",
              "1    1    2   37.80   68.16   59.57\n",
              "2    1    3   70.23   -3.69   34.04\n",
              "3    1    4   60.76   33.86   35.85\n",
              "4    1    5   85.62   60.74   65.74"
            ],
            "text/html": [
              "\n",
              "  <div id=\"df-fb7d3f36-9293-41da-8124-6fc77bda1a9f\">\n",
              "    <div class=\"colab-df-container\">\n",
              "      <div>\n",
              "<style scoped>\n",
              "    .dataframe tbody tr th:only-of-type {\n",
              "        vertical-align: middle;\n",
              "    }\n",
              "\n",
              "    .dataframe tbody tr th {\n",
              "        vertical-align: top;\n",
              "    }\n",
              "\n",
              "    .dataframe thead th {\n",
              "        text-align: right;\n",
              "    }\n",
              "</style>\n",
              "<table border=\"1\" class=\"dataframe\">\n",
              "  <thead>\n",
              "    <tr style=\"text-align: right;\">\n",
              "      <th></th>\n",
              "      <th>Sid</th>\n",
              "      <th>Eid</th>\n",
              "      <th>eventA</th>\n",
              "      <th>eventB</th>\n",
              "      <th>eventC</th>\n",
              "    </tr>\n",
              "  </thead>\n",
              "  <tbody>\n",
              "    <tr>\n",
              "      <th>0</th>\n",
              "      <td>1</td>\n",
              "      <td>1</td>\n",
              "      <td>87.32</td>\n",
              "      <td>58.20</td>\n",
              "      <td>32.93</td>\n",
              "    </tr>\n",
              "    <tr>\n",
              "      <th>1</th>\n",
              "      <td>1</td>\n",
              "      <td>2</td>\n",
              "      <td>37.80</td>\n",
              "      <td>68.16</td>\n",
              "      <td>59.57</td>\n",
              "    </tr>\n",
              "    <tr>\n",
              "      <th>2</th>\n",
              "      <td>1</td>\n",
              "      <td>3</td>\n",
              "      <td>70.23</td>\n",
              "      <td>-3.69</td>\n",
              "      <td>34.04</td>\n",
              "    </tr>\n",
              "    <tr>\n",
              "      <th>3</th>\n",
              "      <td>1</td>\n",
              "      <td>4</td>\n",
              "      <td>60.76</td>\n",
              "      <td>33.86</td>\n",
              "      <td>35.85</td>\n",
              "    </tr>\n",
              "    <tr>\n",
              "      <th>4</th>\n",
              "      <td>1</td>\n",
              "      <td>5</td>\n",
              "      <td>85.62</td>\n",
              "      <td>60.74</td>\n",
              "      <td>65.74</td>\n",
              "    </tr>\n",
              "  </tbody>\n",
              "</table>\n",
              "</div>\n",
              "      <button class=\"colab-df-convert\" onclick=\"convertToInteractive('df-fb7d3f36-9293-41da-8124-6fc77bda1a9f')\"\n",
              "              title=\"Convert this dataframe to an interactive table.\"\n",
              "              style=\"display:none;\">\n",
              "        \n",
              "  <svg xmlns=\"http://www.w3.org/2000/svg\" height=\"24px\"viewBox=\"0 0 24 24\"\n",
              "       width=\"24px\">\n",
              "    <path d=\"M0 0h24v24H0V0z\" fill=\"none\"/>\n",
              "    <path d=\"M18.56 5.44l.94 2.06.94-2.06 2.06-.94-2.06-.94-.94-2.06-.94 2.06-2.06.94zm-11 1L8.5 8.5l.94-2.06 2.06-.94-2.06-.94L8.5 2.5l-.94 2.06-2.06.94zm10 10l.94 2.06.94-2.06 2.06-.94-2.06-.94-.94-2.06-.94 2.06-2.06.94z\"/><path d=\"M17.41 7.96l-1.37-1.37c-.4-.4-.92-.59-1.43-.59-.52 0-1.04.2-1.43.59L10.3 9.45l-7.72 7.72c-.78.78-.78 2.05 0 2.83L4 21.41c.39.39.9.59 1.41.59.51 0 1.02-.2 1.41-.59l7.78-7.78 2.81-2.81c.8-.78.8-2.07 0-2.86zM5.41 20L4 18.59l7.72-7.72 1.47 1.35L5.41 20z\"/>\n",
              "  </svg>\n",
              "      </button>\n",
              "      \n",
              "  <style>\n",
              "    .colab-df-container {\n",
              "      display:flex;\n",
              "      flex-wrap:wrap;\n",
              "      gap: 12px;\n",
              "    }\n",
              "\n",
              "    .colab-df-convert {\n",
              "      background-color: #E8F0FE;\n",
              "      border: none;\n",
              "      border-radius: 50%;\n",
              "      cursor: pointer;\n",
              "      display: none;\n",
              "      fill: #1967D2;\n",
              "      height: 32px;\n",
              "      padding: 0 0 0 0;\n",
              "      width: 32px;\n",
              "    }\n",
              "\n",
              "    .colab-df-convert:hover {\n",
              "      background-color: #E2EBFA;\n",
              "      box-shadow: 0px 1px 2px rgba(60, 64, 67, 0.3), 0px 1px 3px 1px rgba(60, 64, 67, 0.15);\n",
              "      fill: #174EA6;\n",
              "    }\n",
              "\n",
              "    [theme=dark] .colab-df-convert {\n",
              "      background-color: #3B4455;\n",
              "      fill: #D2E3FC;\n",
              "    }\n",
              "\n",
              "    [theme=dark] .colab-df-convert:hover {\n",
              "      background-color: #434B5C;\n",
              "      box-shadow: 0px 1px 3px 1px rgba(0, 0, 0, 0.15);\n",
              "      filter: drop-shadow(0px 1px 2px rgba(0, 0, 0, 0.3));\n",
              "      fill: #FFFFFF;\n",
              "    }\n",
              "  </style>\n",
              "\n",
              "      <script>\n",
              "        const buttonEl =\n",
              "          document.querySelector('#df-fb7d3f36-9293-41da-8124-6fc77bda1a9f button.colab-df-convert');\n",
              "        buttonEl.style.display =\n",
              "          google.colab.kernel.accessAllowed ? 'block' : 'none';\n",
              "\n",
              "        async function convertToInteractive(key) {\n",
              "          const element = document.querySelector('#df-fb7d3f36-9293-41da-8124-6fc77bda1a9f');\n",
              "          const dataTable =\n",
              "            await google.colab.kernel.invokeFunction('convertToInteractive',\n",
              "                                                     [key], {});\n",
              "          if (!dataTable) return;\n",
              "\n",
              "          const docLinkHtml = 'Like what you see? Visit the ' +\n",
              "            '<a target=\"_blank\" href=https://colab.research.google.com/notebooks/data_table.ipynb>data table notebook</a>'\n",
              "            + ' to learn more about interactive tables.';\n",
              "          element.innerHTML = '';\n",
              "          dataTable['output_type'] = 'display_data';\n",
              "          await google.colab.output.renderOutput(dataTable, element);\n",
              "          const docLink = document.createElement('div');\n",
              "          docLink.innerHTML = docLinkHtml;\n",
              "          element.appendChild(docLink);\n",
              "        }\n",
              "      </script>\n",
              "    </div>\n",
              "  </div>\n",
              "  "
            ]
          },
          "metadata": {},
          "execution_count": 5
        }
      ]
    },
    {
      "cell_type": "markdown",
      "source": [
        "#Q1#\n"
      ],
      "metadata": {
        "id": "gRmSK0wo8cGS"
      }
    },
    {
      "cell_type": "markdown",
      "source": [
        "**Q - 1.1**"
      ],
      "metadata": {
        "id": "EmZKNL5u8ZRX"
      }
    },
    {
      "cell_type": "code",
      "source": [
        "data_3_freq=data_1.copy()\n",
        "data_5_freq=data_1.copy()\n",
        "data_3_widt=data_1.copy()\n",
        "data_5_widt=data_1.copy()"
      ],
      "metadata": {
        "id": "brKltKQU-QPJ"
      },
      "execution_count": 6,
      "outputs": []
    },
    {
      "cell_type": "code",
      "source": [
        "data_3_freq['eventA'] = pd.qcut(data_3_freq['eventA'],q=3,labels=range(1,4))\n",
        "data_3_freq['eventB'] = pd.qcut(data_3_freq['eventB'],q=3,labels=range(4,7))\n",
        "data_3_freq['eventC'] = pd.qcut(data_3_freq['eventC'],q=3,labels=range(7,10))"
      ],
      "metadata": {
        "id": "0Z5jec_77SUj"
      },
      "execution_count": 7,
      "outputs": []
    },
    {
      "cell_type": "code",
      "source": [
        "data_3_freq.head()"
      ],
      "metadata": {
        "colab": {
          "base_uri": "https://localhost:8080/",
          "height": 206
        },
        "id": "TBgJYs9Y-38l",
        "outputId": "35d85f92-bb69-43a2-a8cc-837161f37c05"
      },
      "execution_count": 8,
      "outputs": [
        {
          "output_type": "execute_result",
          "data": {
            "text/plain": [
              "   Sid  Eid eventA eventB eventC\n",
              "0    1    1      3      5      7\n",
              "1    1    2      1      6      8\n",
              "2    1    3      3      4      7\n",
              "3    1    4      2      4      7\n",
              "4    1    5      3      5      9"
            ],
            "text/html": [
              "\n",
              "  <div id=\"df-1b337bc3-3edd-4b49-baf5-64e55e8e25d8\">\n",
              "    <div class=\"colab-df-container\">\n",
              "      <div>\n",
              "<style scoped>\n",
              "    .dataframe tbody tr th:only-of-type {\n",
              "        vertical-align: middle;\n",
              "    }\n",
              "\n",
              "    .dataframe tbody tr th {\n",
              "        vertical-align: top;\n",
              "    }\n",
              "\n",
              "    .dataframe thead th {\n",
              "        text-align: right;\n",
              "    }\n",
              "</style>\n",
              "<table border=\"1\" class=\"dataframe\">\n",
              "  <thead>\n",
              "    <tr style=\"text-align: right;\">\n",
              "      <th></th>\n",
              "      <th>Sid</th>\n",
              "      <th>Eid</th>\n",
              "      <th>eventA</th>\n",
              "      <th>eventB</th>\n",
              "      <th>eventC</th>\n",
              "    </tr>\n",
              "  </thead>\n",
              "  <tbody>\n",
              "    <tr>\n",
              "      <th>0</th>\n",
              "      <td>1</td>\n",
              "      <td>1</td>\n",
              "      <td>3</td>\n",
              "      <td>5</td>\n",
              "      <td>7</td>\n",
              "    </tr>\n",
              "    <tr>\n",
              "      <th>1</th>\n",
              "      <td>1</td>\n",
              "      <td>2</td>\n",
              "      <td>1</td>\n",
              "      <td>6</td>\n",
              "      <td>8</td>\n",
              "    </tr>\n",
              "    <tr>\n",
              "      <th>2</th>\n",
              "      <td>1</td>\n",
              "      <td>3</td>\n",
              "      <td>3</td>\n",
              "      <td>4</td>\n",
              "      <td>7</td>\n",
              "    </tr>\n",
              "    <tr>\n",
              "      <th>3</th>\n",
              "      <td>1</td>\n",
              "      <td>4</td>\n",
              "      <td>2</td>\n",
              "      <td>4</td>\n",
              "      <td>7</td>\n",
              "    </tr>\n",
              "    <tr>\n",
              "      <th>4</th>\n",
              "      <td>1</td>\n",
              "      <td>5</td>\n",
              "      <td>3</td>\n",
              "      <td>5</td>\n",
              "      <td>9</td>\n",
              "    </tr>\n",
              "  </tbody>\n",
              "</table>\n",
              "</div>\n",
              "      <button class=\"colab-df-convert\" onclick=\"convertToInteractive('df-1b337bc3-3edd-4b49-baf5-64e55e8e25d8')\"\n",
              "              title=\"Convert this dataframe to an interactive table.\"\n",
              "              style=\"display:none;\">\n",
              "        \n",
              "  <svg xmlns=\"http://www.w3.org/2000/svg\" height=\"24px\"viewBox=\"0 0 24 24\"\n",
              "       width=\"24px\">\n",
              "    <path d=\"M0 0h24v24H0V0z\" fill=\"none\"/>\n",
              "    <path d=\"M18.56 5.44l.94 2.06.94-2.06 2.06-.94-2.06-.94-.94-2.06-.94 2.06-2.06.94zm-11 1L8.5 8.5l.94-2.06 2.06-.94-2.06-.94L8.5 2.5l-.94 2.06-2.06.94zm10 10l.94 2.06.94-2.06 2.06-.94-2.06-.94-.94-2.06-.94 2.06-2.06.94z\"/><path d=\"M17.41 7.96l-1.37-1.37c-.4-.4-.92-.59-1.43-.59-.52 0-1.04.2-1.43.59L10.3 9.45l-7.72 7.72c-.78.78-.78 2.05 0 2.83L4 21.41c.39.39.9.59 1.41.59.51 0 1.02-.2 1.41-.59l7.78-7.78 2.81-2.81c.8-.78.8-2.07 0-2.86zM5.41 20L4 18.59l7.72-7.72 1.47 1.35L5.41 20z\"/>\n",
              "  </svg>\n",
              "      </button>\n",
              "      \n",
              "  <style>\n",
              "    .colab-df-container {\n",
              "      display:flex;\n",
              "      flex-wrap:wrap;\n",
              "      gap: 12px;\n",
              "    }\n",
              "\n",
              "    .colab-df-convert {\n",
              "      background-color: #E8F0FE;\n",
              "      border: none;\n",
              "      border-radius: 50%;\n",
              "      cursor: pointer;\n",
              "      display: none;\n",
              "      fill: #1967D2;\n",
              "      height: 32px;\n",
              "      padding: 0 0 0 0;\n",
              "      width: 32px;\n",
              "    }\n",
              "\n",
              "    .colab-df-convert:hover {\n",
              "      background-color: #E2EBFA;\n",
              "      box-shadow: 0px 1px 2px rgba(60, 64, 67, 0.3), 0px 1px 3px 1px rgba(60, 64, 67, 0.15);\n",
              "      fill: #174EA6;\n",
              "    }\n",
              "\n",
              "    [theme=dark] .colab-df-convert {\n",
              "      background-color: #3B4455;\n",
              "      fill: #D2E3FC;\n",
              "    }\n",
              "\n",
              "    [theme=dark] .colab-df-convert:hover {\n",
              "      background-color: #434B5C;\n",
              "      box-shadow: 0px 1px 3px 1px rgba(0, 0, 0, 0.15);\n",
              "      filter: drop-shadow(0px 1px 2px rgba(0, 0, 0, 0.3));\n",
              "      fill: #FFFFFF;\n",
              "    }\n",
              "  </style>\n",
              "\n",
              "      <script>\n",
              "        const buttonEl =\n",
              "          document.querySelector('#df-1b337bc3-3edd-4b49-baf5-64e55e8e25d8 button.colab-df-convert');\n",
              "        buttonEl.style.display =\n",
              "          google.colab.kernel.accessAllowed ? 'block' : 'none';\n",
              "\n",
              "        async function convertToInteractive(key) {\n",
              "          const element = document.querySelector('#df-1b337bc3-3edd-4b49-baf5-64e55e8e25d8');\n",
              "          const dataTable =\n",
              "            await google.colab.kernel.invokeFunction('convertToInteractive',\n",
              "                                                     [key], {});\n",
              "          if (!dataTable) return;\n",
              "\n",
              "          const docLinkHtml = 'Like what you see? Visit the ' +\n",
              "            '<a target=\"_blank\" href=https://colab.research.google.com/notebooks/data_table.ipynb>data table notebook</a>'\n",
              "            + ' to learn more about interactive tables.';\n",
              "          element.innerHTML = '';\n",
              "          dataTable['output_type'] = 'display_data';\n",
              "          await google.colab.output.renderOutput(dataTable, element);\n",
              "          const docLink = document.createElement('div');\n",
              "          docLink.innerHTML = docLinkHtml;\n",
              "          element.appendChild(docLink);\n",
              "        }\n",
              "      </script>\n",
              "    </div>\n",
              "  </div>\n",
              "  "
            ]
          },
          "metadata": {},
          "execution_count": 8
        }
      ]
    },
    {
      "cell_type": "code",
      "source": [
        "data_3_widt['eventA'] = pd.cut(data_3_widt['eventA'],bins=3,labels=range(1,4))\n",
        "data_3_widt['eventB'] = pd.cut(data_3_widt['eventB'],bins=3,labels=range(4,7))\n",
        "data_3_widt['eventC'] = pd.cut(data_3_widt['eventC'],bins=3,labels=range(7,10))"
      ],
      "metadata": {
        "id": "NP8zIrw6_a2H"
      },
      "execution_count": 9,
      "outputs": []
    },
    {
      "cell_type": "code",
      "source": [
        "data_3_widt.head()"
      ],
      "metadata": {
        "colab": {
          "base_uri": "https://localhost:8080/",
          "height": 206
        },
        "id": "DAlxqGuW_fsM",
        "outputId": "1f772da1-7449-4225-b442-0e6fba167e50"
      },
      "execution_count": 10,
      "outputs": [
        {
          "output_type": "execute_result",
          "data": {
            "text/plain": [
              "   Sid  Eid eventA eventB eventC\n",
              "0    1    1      3      5      8\n",
              "1    1    2      2      5      8\n",
              "2    1    3      2      4      8\n",
              "3    1    4      2      5      8\n",
              "4    1    5      3      5      8"
            ],
            "text/html": [
              "\n",
              "  <div id=\"df-8eca6728-924a-480c-8d93-85183ee4b147\">\n",
              "    <div class=\"colab-df-container\">\n",
              "      <div>\n",
              "<style scoped>\n",
              "    .dataframe tbody tr th:only-of-type {\n",
              "        vertical-align: middle;\n",
              "    }\n",
              "\n",
              "    .dataframe tbody tr th {\n",
              "        vertical-align: top;\n",
              "    }\n",
              "\n",
              "    .dataframe thead th {\n",
              "        text-align: right;\n",
              "    }\n",
              "</style>\n",
              "<table border=\"1\" class=\"dataframe\">\n",
              "  <thead>\n",
              "    <tr style=\"text-align: right;\">\n",
              "      <th></th>\n",
              "      <th>Sid</th>\n",
              "      <th>Eid</th>\n",
              "      <th>eventA</th>\n",
              "      <th>eventB</th>\n",
              "      <th>eventC</th>\n",
              "    </tr>\n",
              "  </thead>\n",
              "  <tbody>\n",
              "    <tr>\n",
              "      <th>0</th>\n",
              "      <td>1</td>\n",
              "      <td>1</td>\n",
              "      <td>3</td>\n",
              "      <td>5</td>\n",
              "      <td>8</td>\n",
              "    </tr>\n",
              "    <tr>\n",
              "      <th>1</th>\n",
              "      <td>1</td>\n",
              "      <td>2</td>\n",
              "      <td>2</td>\n",
              "      <td>5</td>\n",
              "      <td>8</td>\n",
              "    </tr>\n",
              "    <tr>\n",
              "      <th>2</th>\n",
              "      <td>1</td>\n",
              "      <td>3</td>\n",
              "      <td>2</td>\n",
              "      <td>4</td>\n",
              "      <td>8</td>\n",
              "    </tr>\n",
              "    <tr>\n",
              "      <th>3</th>\n",
              "      <td>1</td>\n",
              "      <td>4</td>\n",
              "      <td>2</td>\n",
              "      <td>5</td>\n",
              "      <td>8</td>\n",
              "    </tr>\n",
              "    <tr>\n",
              "      <th>4</th>\n",
              "      <td>1</td>\n",
              "      <td>5</td>\n",
              "      <td>3</td>\n",
              "      <td>5</td>\n",
              "      <td>8</td>\n",
              "    </tr>\n",
              "  </tbody>\n",
              "</table>\n",
              "</div>\n",
              "      <button class=\"colab-df-convert\" onclick=\"convertToInteractive('df-8eca6728-924a-480c-8d93-85183ee4b147')\"\n",
              "              title=\"Convert this dataframe to an interactive table.\"\n",
              "              style=\"display:none;\">\n",
              "        \n",
              "  <svg xmlns=\"http://www.w3.org/2000/svg\" height=\"24px\"viewBox=\"0 0 24 24\"\n",
              "       width=\"24px\">\n",
              "    <path d=\"M0 0h24v24H0V0z\" fill=\"none\"/>\n",
              "    <path d=\"M18.56 5.44l.94 2.06.94-2.06 2.06-.94-2.06-.94-.94-2.06-.94 2.06-2.06.94zm-11 1L8.5 8.5l.94-2.06 2.06-.94-2.06-.94L8.5 2.5l-.94 2.06-2.06.94zm10 10l.94 2.06.94-2.06 2.06-.94-2.06-.94-.94-2.06-.94 2.06-2.06.94z\"/><path d=\"M17.41 7.96l-1.37-1.37c-.4-.4-.92-.59-1.43-.59-.52 0-1.04.2-1.43.59L10.3 9.45l-7.72 7.72c-.78.78-.78 2.05 0 2.83L4 21.41c.39.39.9.59 1.41.59.51 0 1.02-.2 1.41-.59l7.78-7.78 2.81-2.81c.8-.78.8-2.07 0-2.86zM5.41 20L4 18.59l7.72-7.72 1.47 1.35L5.41 20z\"/>\n",
              "  </svg>\n",
              "      </button>\n",
              "      \n",
              "  <style>\n",
              "    .colab-df-container {\n",
              "      display:flex;\n",
              "      flex-wrap:wrap;\n",
              "      gap: 12px;\n",
              "    }\n",
              "\n",
              "    .colab-df-convert {\n",
              "      background-color: #E8F0FE;\n",
              "      border: none;\n",
              "      border-radius: 50%;\n",
              "      cursor: pointer;\n",
              "      display: none;\n",
              "      fill: #1967D2;\n",
              "      height: 32px;\n",
              "      padding: 0 0 0 0;\n",
              "      width: 32px;\n",
              "    }\n",
              "\n",
              "    .colab-df-convert:hover {\n",
              "      background-color: #E2EBFA;\n",
              "      box-shadow: 0px 1px 2px rgba(60, 64, 67, 0.3), 0px 1px 3px 1px rgba(60, 64, 67, 0.15);\n",
              "      fill: #174EA6;\n",
              "    }\n",
              "\n",
              "    [theme=dark] .colab-df-convert {\n",
              "      background-color: #3B4455;\n",
              "      fill: #D2E3FC;\n",
              "    }\n",
              "\n",
              "    [theme=dark] .colab-df-convert:hover {\n",
              "      background-color: #434B5C;\n",
              "      box-shadow: 0px 1px 3px 1px rgba(0, 0, 0, 0.15);\n",
              "      filter: drop-shadow(0px 1px 2px rgba(0, 0, 0, 0.3));\n",
              "      fill: #FFFFFF;\n",
              "    }\n",
              "  </style>\n",
              "\n",
              "      <script>\n",
              "        const buttonEl =\n",
              "          document.querySelector('#df-8eca6728-924a-480c-8d93-85183ee4b147 button.colab-df-convert');\n",
              "        buttonEl.style.display =\n",
              "          google.colab.kernel.accessAllowed ? 'block' : 'none';\n",
              "\n",
              "        async function convertToInteractive(key) {\n",
              "          const element = document.querySelector('#df-8eca6728-924a-480c-8d93-85183ee4b147');\n",
              "          const dataTable =\n",
              "            await google.colab.kernel.invokeFunction('convertToInteractive',\n",
              "                                                     [key], {});\n",
              "          if (!dataTable) return;\n",
              "\n",
              "          const docLinkHtml = 'Like what you see? Visit the ' +\n",
              "            '<a target=\"_blank\" href=https://colab.research.google.com/notebooks/data_table.ipynb>data table notebook</a>'\n",
              "            + ' to learn more about interactive tables.';\n",
              "          element.innerHTML = '';\n",
              "          dataTable['output_type'] = 'display_data';\n",
              "          await google.colab.output.renderOutput(dataTable, element);\n",
              "          const docLink = document.createElement('div');\n",
              "          docLink.innerHTML = docLinkHtml;\n",
              "          element.appendChild(docLink);\n",
              "        }\n",
              "      </script>\n",
              "    </div>\n",
              "  </div>\n",
              "  "
            ]
          },
          "metadata": {},
          "execution_count": 10
        }
      ]
    },
    {
      "cell_type": "code",
      "source": [
        "data_5_freq['eventA'] = pd.qcut(data_5_freq['eventA'],q=5,labels=range(1,6))\n",
        "data_5_freq['eventB'] = pd.qcut(data_5_freq['eventB'],q=5,labels=range(6,11))\n",
        "data_5_freq['eventC'] = pd.qcut(data_5_freq['eventC'],q=5,labels=range(11,16))"
      ],
      "metadata": {
        "id": "ORuZoOZ39pR0"
      },
      "execution_count": 11,
      "outputs": []
    },
    {
      "cell_type": "code",
      "source": [
        "data_5_freq.head()"
      ],
      "metadata": {
        "colab": {
          "base_uri": "https://localhost:8080/",
          "height": 206
        },
        "id": "zZLtriGS_UKz",
        "outputId": "b31b6ed8-3b79-4774-f7ed-ed2915865f64"
      },
      "execution_count": 12,
      "outputs": [
        {
          "output_type": "execute_result",
          "data": {
            "text/plain": [
              "   Sid  Eid eventA eventB eventC\n",
              "0    1    1      5      8     12\n",
              "1    1    2      2      9     14\n",
              "2    1    3      4      6     12\n",
              "3    1    4      4      7     12\n",
              "4    1    5      5      9     14"
            ],
            "text/html": [
              "\n",
              "  <div id=\"df-8229deda-3a9f-4f20-a3b6-eac5cd9a887b\">\n",
              "    <div class=\"colab-df-container\">\n",
              "      <div>\n",
              "<style scoped>\n",
              "    .dataframe tbody tr th:only-of-type {\n",
              "        vertical-align: middle;\n",
              "    }\n",
              "\n",
              "    .dataframe tbody tr th {\n",
              "        vertical-align: top;\n",
              "    }\n",
              "\n",
              "    .dataframe thead th {\n",
              "        text-align: right;\n",
              "    }\n",
              "</style>\n",
              "<table border=\"1\" class=\"dataframe\">\n",
              "  <thead>\n",
              "    <tr style=\"text-align: right;\">\n",
              "      <th></th>\n",
              "      <th>Sid</th>\n",
              "      <th>Eid</th>\n",
              "      <th>eventA</th>\n",
              "      <th>eventB</th>\n",
              "      <th>eventC</th>\n",
              "    </tr>\n",
              "  </thead>\n",
              "  <tbody>\n",
              "    <tr>\n",
              "      <th>0</th>\n",
              "      <td>1</td>\n",
              "      <td>1</td>\n",
              "      <td>5</td>\n",
              "      <td>8</td>\n",
              "      <td>12</td>\n",
              "    </tr>\n",
              "    <tr>\n",
              "      <th>1</th>\n",
              "      <td>1</td>\n",
              "      <td>2</td>\n",
              "      <td>2</td>\n",
              "      <td>9</td>\n",
              "      <td>14</td>\n",
              "    </tr>\n",
              "    <tr>\n",
              "      <th>2</th>\n",
              "      <td>1</td>\n",
              "      <td>3</td>\n",
              "      <td>4</td>\n",
              "      <td>6</td>\n",
              "      <td>12</td>\n",
              "    </tr>\n",
              "    <tr>\n",
              "      <th>3</th>\n",
              "      <td>1</td>\n",
              "      <td>4</td>\n",
              "      <td>4</td>\n",
              "      <td>7</td>\n",
              "      <td>12</td>\n",
              "    </tr>\n",
              "    <tr>\n",
              "      <th>4</th>\n",
              "      <td>1</td>\n",
              "      <td>5</td>\n",
              "      <td>5</td>\n",
              "      <td>9</td>\n",
              "      <td>14</td>\n",
              "    </tr>\n",
              "  </tbody>\n",
              "</table>\n",
              "</div>\n",
              "      <button class=\"colab-df-convert\" onclick=\"convertToInteractive('df-8229deda-3a9f-4f20-a3b6-eac5cd9a887b')\"\n",
              "              title=\"Convert this dataframe to an interactive table.\"\n",
              "              style=\"display:none;\">\n",
              "        \n",
              "  <svg xmlns=\"http://www.w3.org/2000/svg\" height=\"24px\"viewBox=\"0 0 24 24\"\n",
              "       width=\"24px\">\n",
              "    <path d=\"M0 0h24v24H0V0z\" fill=\"none\"/>\n",
              "    <path d=\"M18.56 5.44l.94 2.06.94-2.06 2.06-.94-2.06-.94-.94-2.06-.94 2.06-2.06.94zm-11 1L8.5 8.5l.94-2.06 2.06-.94-2.06-.94L8.5 2.5l-.94 2.06-2.06.94zm10 10l.94 2.06.94-2.06 2.06-.94-2.06-.94-.94-2.06-.94 2.06-2.06.94z\"/><path d=\"M17.41 7.96l-1.37-1.37c-.4-.4-.92-.59-1.43-.59-.52 0-1.04.2-1.43.59L10.3 9.45l-7.72 7.72c-.78.78-.78 2.05 0 2.83L4 21.41c.39.39.9.59 1.41.59.51 0 1.02-.2 1.41-.59l7.78-7.78 2.81-2.81c.8-.78.8-2.07 0-2.86zM5.41 20L4 18.59l7.72-7.72 1.47 1.35L5.41 20z\"/>\n",
              "  </svg>\n",
              "      </button>\n",
              "      \n",
              "  <style>\n",
              "    .colab-df-container {\n",
              "      display:flex;\n",
              "      flex-wrap:wrap;\n",
              "      gap: 12px;\n",
              "    }\n",
              "\n",
              "    .colab-df-convert {\n",
              "      background-color: #E8F0FE;\n",
              "      border: none;\n",
              "      border-radius: 50%;\n",
              "      cursor: pointer;\n",
              "      display: none;\n",
              "      fill: #1967D2;\n",
              "      height: 32px;\n",
              "      padding: 0 0 0 0;\n",
              "      width: 32px;\n",
              "    }\n",
              "\n",
              "    .colab-df-convert:hover {\n",
              "      background-color: #E2EBFA;\n",
              "      box-shadow: 0px 1px 2px rgba(60, 64, 67, 0.3), 0px 1px 3px 1px rgba(60, 64, 67, 0.15);\n",
              "      fill: #174EA6;\n",
              "    }\n",
              "\n",
              "    [theme=dark] .colab-df-convert {\n",
              "      background-color: #3B4455;\n",
              "      fill: #D2E3FC;\n",
              "    }\n",
              "\n",
              "    [theme=dark] .colab-df-convert:hover {\n",
              "      background-color: #434B5C;\n",
              "      box-shadow: 0px 1px 3px 1px rgba(0, 0, 0, 0.15);\n",
              "      filter: drop-shadow(0px 1px 2px rgba(0, 0, 0, 0.3));\n",
              "      fill: #FFFFFF;\n",
              "    }\n",
              "  </style>\n",
              "\n",
              "      <script>\n",
              "        const buttonEl =\n",
              "          document.querySelector('#df-8229deda-3a9f-4f20-a3b6-eac5cd9a887b button.colab-df-convert');\n",
              "        buttonEl.style.display =\n",
              "          google.colab.kernel.accessAllowed ? 'block' : 'none';\n",
              "\n",
              "        async function convertToInteractive(key) {\n",
              "          const element = document.querySelector('#df-8229deda-3a9f-4f20-a3b6-eac5cd9a887b');\n",
              "          const dataTable =\n",
              "            await google.colab.kernel.invokeFunction('convertToInteractive',\n",
              "                                                     [key], {});\n",
              "          if (!dataTable) return;\n",
              "\n",
              "          const docLinkHtml = 'Like what you see? Visit the ' +\n",
              "            '<a target=\"_blank\" href=https://colab.research.google.com/notebooks/data_table.ipynb>data table notebook</a>'\n",
              "            + ' to learn more about interactive tables.';\n",
              "          element.innerHTML = '';\n",
              "          dataTable['output_type'] = 'display_data';\n",
              "          await google.colab.output.renderOutput(dataTable, element);\n",
              "          const docLink = document.createElement('div');\n",
              "          docLink.innerHTML = docLinkHtml;\n",
              "          element.appendChild(docLink);\n",
              "        }\n",
              "      </script>\n",
              "    </div>\n",
              "  </div>\n",
              "  "
            ]
          },
          "metadata": {},
          "execution_count": 12
        }
      ]
    },
    {
      "cell_type": "code",
      "source": [
        "data_5_widt['eventA'] = pd.cut(data_5_widt['eventA'],bins=5,labels=range(1,6))\n",
        "data_5_widt['eventB'] = pd.cut(data_5_widt['eventB'],bins=5,labels=range(6,11))\n",
        "data_5_widt['eventC'] = pd.cut(data_5_widt['eventC'],bins=5,labels=range(11,16))"
      ],
      "metadata": {
        "id": "1rOEc6uK_VfL"
      },
      "execution_count": 13,
      "outputs": []
    },
    {
      "cell_type": "code",
      "source": [
        "data_5_widt.head()"
      ],
      "metadata": {
        "colab": {
          "base_uri": "https://localhost:8080/",
          "height": 206
        },
        "id": "3PPJjawG_jps",
        "outputId": "9e8bddf3-3720-44d1-954e-48d9077cf39a"
      },
      "execution_count": 14,
      "outputs": [
        {
          "output_type": "execute_result",
          "data": {
            "text/plain": [
              "   Sid  Eid eventA eventB eventC\n",
              "0    1    1      4      8     12\n",
              "1    1    2      2      8     13\n",
              "2    1    3      3      6     12\n",
              "3    1    4      3      7     12\n",
              "4    1    5      4      8     13"
            ],
            "text/html": [
              "\n",
              "  <div id=\"df-09ab59ad-6836-4874-851f-651e3b1c5035\">\n",
              "    <div class=\"colab-df-container\">\n",
              "      <div>\n",
              "<style scoped>\n",
              "    .dataframe tbody tr th:only-of-type {\n",
              "        vertical-align: middle;\n",
              "    }\n",
              "\n",
              "    .dataframe tbody tr th {\n",
              "        vertical-align: top;\n",
              "    }\n",
              "\n",
              "    .dataframe thead th {\n",
              "        text-align: right;\n",
              "    }\n",
              "</style>\n",
              "<table border=\"1\" class=\"dataframe\">\n",
              "  <thead>\n",
              "    <tr style=\"text-align: right;\">\n",
              "      <th></th>\n",
              "      <th>Sid</th>\n",
              "      <th>Eid</th>\n",
              "      <th>eventA</th>\n",
              "      <th>eventB</th>\n",
              "      <th>eventC</th>\n",
              "    </tr>\n",
              "  </thead>\n",
              "  <tbody>\n",
              "    <tr>\n",
              "      <th>0</th>\n",
              "      <td>1</td>\n",
              "      <td>1</td>\n",
              "      <td>4</td>\n",
              "      <td>8</td>\n",
              "      <td>12</td>\n",
              "    </tr>\n",
              "    <tr>\n",
              "      <th>1</th>\n",
              "      <td>1</td>\n",
              "      <td>2</td>\n",
              "      <td>2</td>\n",
              "      <td>8</td>\n",
              "      <td>13</td>\n",
              "    </tr>\n",
              "    <tr>\n",
              "      <th>2</th>\n",
              "      <td>1</td>\n",
              "      <td>3</td>\n",
              "      <td>3</td>\n",
              "      <td>6</td>\n",
              "      <td>12</td>\n",
              "    </tr>\n",
              "    <tr>\n",
              "      <th>3</th>\n",
              "      <td>1</td>\n",
              "      <td>4</td>\n",
              "      <td>3</td>\n",
              "      <td>7</td>\n",
              "      <td>12</td>\n",
              "    </tr>\n",
              "    <tr>\n",
              "      <th>4</th>\n",
              "      <td>1</td>\n",
              "      <td>5</td>\n",
              "      <td>4</td>\n",
              "      <td>8</td>\n",
              "      <td>13</td>\n",
              "    </tr>\n",
              "  </tbody>\n",
              "</table>\n",
              "</div>\n",
              "      <button class=\"colab-df-convert\" onclick=\"convertToInteractive('df-09ab59ad-6836-4874-851f-651e3b1c5035')\"\n",
              "              title=\"Convert this dataframe to an interactive table.\"\n",
              "              style=\"display:none;\">\n",
              "        \n",
              "  <svg xmlns=\"http://www.w3.org/2000/svg\" height=\"24px\"viewBox=\"0 0 24 24\"\n",
              "       width=\"24px\">\n",
              "    <path d=\"M0 0h24v24H0V0z\" fill=\"none\"/>\n",
              "    <path d=\"M18.56 5.44l.94 2.06.94-2.06 2.06-.94-2.06-.94-.94-2.06-.94 2.06-2.06.94zm-11 1L8.5 8.5l.94-2.06 2.06-.94-2.06-.94L8.5 2.5l-.94 2.06-2.06.94zm10 10l.94 2.06.94-2.06 2.06-.94-2.06-.94-.94-2.06-.94 2.06-2.06.94z\"/><path d=\"M17.41 7.96l-1.37-1.37c-.4-.4-.92-.59-1.43-.59-.52 0-1.04.2-1.43.59L10.3 9.45l-7.72 7.72c-.78.78-.78 2.05 0 2.83L4 21.41c.39.39.9.59 1.41.59.51 0 1.02-.2 1.41-.59l7.78-7.78 2.81-2.81c.8-.78.8-2.07 0-2.86zM5.41 20L4 18.59l7.72-7.72 1.47 1.35L5.41 20z\"/>\n",
              "  </svg>\n",
              "      </button>\n",
              "      \n",
              "  <style>\n",
              "    .colab-df-container {\n",
              "      display:flex;\n",
              "      flex-wrap:wrap;\n",
              "      gap: 12px;\n",
              "    }\n",
              "\n",
              "    .colab-df-convert {\n",
              "      background-color: #E8F0FE;\n",
              "      border: none;\n",
              "      border-radius: 50%;\n",
              "      cursor: pointer;\n",
              "      display: none;\n",
              "      fill: #1967D2;\n",
              "      height: 32px;\n",
              "      padding: 0 0 0 0;\n",
              "      width: 32px;\n",
              "    }\n",
              "\n",
              "    .colab-df-convert:hover {\n",
              "      background-color: #E2EBFA;\n",
              "      box-shadow: 0px 1px 2px rgba(60, 64, 67, 0.3), 0px 1px 3px 1px rgba(60, 64, 67, 0.15);\n",
              "      fill: #174EA6;\n",
              "    }\n",
              "\n",
              "    [theme=dark] .colab-df-convert {\n",
              "      background-color: #3B4455;\n",
              "      fill: #D2E3FC;\n",
              "    }\n",
              "\n",
              "    [theme=dark] .colab-df-convert:hover {\n",
              "      background-color: #434B5C;\n",
              "      box-shadow: 0px 1px 3px 1px rgba(0, 0, 0, 0.15);\n",
              "      filter: drop-shadow(0px 1px 2px rgba(0, 0, 0, 0.3));\n",
              "      fill: #FFFFFF;\n",
              "    }\n",
              "  </style>\n",
              "\n",
              "      <script>\n",
              "        const buttonEl =\n",
              "          document.querySelector('#df-09ab59ad-6836-4874-851f-651e3b1c5035 button.colab-df-convert');\n",
              "        buttonEl.style.display =\n",
              "          google.colab.kernel.accessAllowed ? 'block' : 'none';\n",
              "\n",
              "        async function convertToInteractive(key) {\n",
              "          const element = document.querySelector('#df-09ab59ad-6836-4874-851f-651e3b1c5035');\n",
              "          const dataTable =\n",
              "            await google.colab.kernel.invokeFunction('convertToInteractive',\n",
              "                                                     [key], {});\n",
              "          if (!dataTable) return;\n",
              "\n",
              "          const docLinkHtml = 'Like what you see? Visit the ' +\n",
              "            '<a target=\"_blank\" href=https://colab.research.google.com/notebooks/data_table.ipynb>data table notebook</a>'\n",
              "            + ' to learn more about interactive tables.';\n",
              "          element.innerHTML = '';\n",
              "          dataTable['output_type'] = 'display_data';\n",
              "          await google.colab.output.renderOutput(dataTable, element);\n",
              "          const docLink = document.createElement('div');\n",
              "          docLink.innerHTML = docLinkHtml;\n",
              "          element.appendChild(docLink);\n",
              "        }\n",
              "      </script>\n",
              "    </div>\n",
              "  </div>\n",
              "  "
            ]
          },
          "metadata": {},
          "execution_count": 14
        }
      ]
    },
    {
      "cell_type": "code",
      "source": [
        "#create txtt file\n",
        "def create_txt(df,i,k):\n",
        "  with open(f'readme_{i}_{k}.txt', 'w') as f:\n",
        "    r=0\n",
        "    for index,row in df.iterrows():\n",
        "      if(r==5):\n",
        "        r=0\n",
        "        f.write(str('-2\\n'))\n",
        "      r+=1\n",
        "      f.write(str(row['eventA']))\n",
        "      f.write(str(' '))\n",
        "      f.write(str(row['eventB']))\n",
        "      f.write(str(' '))\n",
        "      f.write(str(row['eventC']))\n",
        "      f.write(str(' '))\n",
        "      f.write(str('-1'))\n",
        "      f.write(str(' '))\n",
        "    f.write(str('-2\\n'))"
      ],
      "metadata": {
        "id": "gOyKrd-JacgW"
      },
      "execution_count": 15,
      "outputs": []
    },
    {
      "cell_type": "markdown",
      "source": [
        "**Q - 1.2**"
      ],
      "metadata": {
        "id": "tKnGgTRr8WlW"
      }
    },
    {
      "cell_type": "code",
      "source": [
        "list_db = [data_3_widt,data_3_freq,data_5_widt,data_5_freq]\n",
        "name_db = ['3_widt','3_freq','5_widt','5_freq']\n",
        "\n",
        "list_patterns=[[],[],[],[]]\n",
        "for i in range(4):\n",
        "  if i<=1:\n",
        "      create_txt(list_db[i],i,3)\n",
        "      k=3\n",
        "  else:\n",
        "      create_txt(list_db[i],i,5)\n",
        "      k=5\n",
        "  for min_sup in np.arange(0.2,1,0.1):\n",
        "    spmf = Spmf(\"PrefixSpan\", input_filename=f'readme_{i}_{k}.txt',output_filename=f'output_{round(min_sup,1)}_{name_db[i]}.txt', arguments=[min_sup])\n",
        "    spmf.run()\n",
        "    list_patterns[i].append(spmf.to_pandas_dataframe(pickle=True).shape[0])"
      ],
      "metadata": {
        "id": "EpfA__yjBkgz",
        "colab": {
          "base_uri": "https://localhost:8080/"
        },
        "outputId": "f45f93cd-93c6-41d4-92ad-8b14db61cc66"
      },
      "execution_count": 16,
      "outputs": [
        {
          "output_type": "stream",
          "name": "stdout",
          "text": [
            ">/usr/local/lib/python3.8/dist-packages/spmf/spmf.jar\n",
            "=============  PREFIXSPAN 0.99-2016 - STATISTICS =============\n",
            " Total time ~ 269 ms\n",
            " Frequent sequences count : 2796\n",
            " Max memory (mb) : 24.365280151367188\n",
            " minsup = 20 sequences.\n",
            " Pattern count : 2796\n",
            "===================================================\n",
            "\n",
            "\n",
            ">/usr/local/lib/python3.8/dist-packages/spmf/spmf.jar\n",
            "=============  PREFIXSPAN 0.99-2016 - STATISTICS =============\n",
            " Total time ~ 113 ms\n",
            " Frequent sequences count : 1016\n",
            " Max memory (mb) : 13.37310791015625\n",
            " minsup = 31 sequences.\n",
            " Pattern count : 1016\n",
            "===================================================\n",
            "\n",
            "\n",
            ">/usr/local/lib/python3.8/dist-packages/spmf/spmf.jar\n",
            "=============  PREFIXSPAN 0.99-2016 - STATISTICS =============\n",
            " Total time ~ 84 ms\n",
            " Frequent sequences count : 465\n",
            " Max memory (mb) : 10.69921875\n",
            " minsup = 41 sequences.\n",
            " Pattern count : 465\n",
            "===================================================\n",
            "\n",
            "\n",
            ">/usr/local/lib/python3.8/dist-packages/spmf/spmf.jar\n",
            "=============  PREFIXSPAN 0.99-2016 - STATISTICS =============\n",
            " Total time ~ 65 ms\n",
            " Frequent sequences count : 236\n",
            " Max memory (mb) : 10.69921875\n",
            " minsup = 51 sequences.\n",
            " Pattern count : 236\n",
            "===================================================\n",
            "\n",
            "\n",
            ">/usr/local/lib/python3.8/dist-packages/spmf/spmf.jar\n",
            "=============  PREFIXSPAN 0.99-2016 - STATISTICS =============\n",
            " Total time ~ 65 ms\n",
            " Frequent sequences count : 159\n",
            " Max memory (mb) : 10.69921875\n",
            " minsup = 61 sequences.\n",
            " Pattern count : 159\n",
            "===================================================\n",
            "\n",
            "\n",
            ">/usr/local/lib/python3.8/dist-packages/spmf/spmf.jar\n",
            "=============  PREFIXSPAN 0.99-2016 - STATISTICS =============\n",
            " Total time ~ 83 ms\n",
            " Frequent sequences count : 69\n",
            " Max memory (mb) : 10.101211547851562\n",
            " minsup = 71 sequences.\n",
            " Pattern count : 69\n",
            "===================================================\n",
            "\n",
            "\n",
            ">/usr/local/lib/python3.8/dist-packages/spmf/spmf.jar\n",
            "=============  PREFIXSPAN 0.99-2016 - STATISTICS =============\n",
            " Total time ~ 80 ms\n",
            " Frequent sequences count : 44\n",
            " Max memory (mb) : 9.101486206054688\n",
            " minsup = 81 sequences.\n",
            " Pattern count : 44\n",
            "===================================================\n",
            "\n",
            "\n",
            ">/usr/local/lib/python3.8/dist-packages/spmf/spmf.jar\n",
            "=============  PREFIXSPAN 0.99-2016 - STATISTICS =============\n",
            " Total time ~ 46 ms\n",
            " Frequent sequences count : 14\n",
            " Max memory (mb) : 8.501304626464844\n",
            " minsup = 91 sequences.\n",
            " Pattern count : 14\n",
            "===================================================\n",
            "\n",
            "\n",
            ">/usr/local/lib/python3.8/dist-packages/spmf/spmf.jar\n",
            "=============  PREFIXSPAN 0.99-2016 - STATISTICS =============\n",
            " Total time ~ 156 ms\n",
            " Frequent sequences count : 1024\n",
            " Max memory (mb) : 10.69921875\n",
            " minsup = 20 sequences.\n",
            " Pattern count : 1024\n",
            "===================================================\n",
            "\n",
            "\n",
            ">/usr/local/lib/python3.8/dist-packages/spmf/spmf.jar\n",
            "=============  PREFIXSPAN 0.99-2016 - STATISTICS =============\n",
            " Total time ~ 132 ms\n",
            " Frequent sequences count : 155\n",
            " Max memory (mb) : 10.69921875\n",
            " minsup = 31 sequences.\n",
            " Pattern count : 155\n",
            "===================================================\n",
            "\n",
            "\n",
            ">/usr/local/lib/python3.8/dist-packages/spmf/spmf.jar\n",
            "=============  PREFIXSPAN 0.99-2016 - STATISTICS =============\n",
            " Total time ~ 129 ms\n",
            " Frequent sequences count : 110\n",
            " Max memory (mb) : 10.69921875\n",
            " minsup = 41 sequences.\n",
            " Pattern count : 110\n",
            "===================================================\n",
            "\n",
            "\n",
            ">/usr/local/lib/python3.8/dist-packages/spmf/spmf.jar\n",
            "=============  PREFIXSPAN 0.99-2016 - STATISTICS =============\n",
            " Total time ~ 102 ms\n",
            " Frequent sequences count : 85\n",
            " Max memory (mb) : 10.501373291015625\n",
            " minsup = 51 sequences.\n",
            " Pattern count : 85\n",
            "===================================================\n",
            "\n",
            "\n",
            ">/usr/local/lib/python3.8/dist-packages/spmf/spmf.jar\n",
            "=============  PREFIXSPAN 0.99-2016 - STATISTICS =============\n",
            " Total time ~ 81 ms\n",
            " Frequent sequences count : 20\n",
            " Max memory (mb) : 8.69921875\n",
            " minsup = 61 sequences.\n",
            " Pattern count : 20\n",
            "===================================================\n",
            "\n",
            "\n",
            ">/usr/local/lib/python3.8/dist-packages/spmf/spmf.jar\n",
            "=============  PREFIXSPAN 0.99-2016 - STATISTICS =============\n",
            " Total time ~ 56 ms\n",
            " Frequent sequences count : 9\n",
            " Max memory (mb) : 8.501296997070312\n",
            " minsup = 71 sequences.\n",
            " Pattern count : 9\n",
            "===================================================\n",
            "\n",
            "\n",
            ">/usr/local/lib/python3.8/dist-packages/spmf/spmf.jar\n",
            "=============  PREFIXSPAN 0.99-2016 - STATISTICS =============\n",
            " Total time ~ 33 ms\n",
            " Frequent sequences count : 9\n",
            " Max memory (mb) : 8.501296997070312\n",
            " minsup = 81 sequences.\n",
            " Pattern count : 9\n",
            "===================================================\n",
            "\n",
            "\n",
            ">/usr/local/lib/python3.8/dist-packages/spmf/spmf.jar\n",
            "=============  PREFIXSPAN 0.99-2016 - STATISTICS =============\n",
            " Total time ~ 18 ms\n",
            " Frequent sequences count : 1\n",
            " Max memory (mb) : 7.901191711425781\n",
            " minsup = 91 sequences.\n",
            " Pattern count : 1\n",
            "===================================================\n",
            "\n",
            "\n",
            ">/usr/local/lib/python3.8/dist-packages/spmf/spmf.jar\n",
            "=============  PREFIXSPAN 0.99-2016 - STATISTICS =============\n",
            " Total time ~ 153 ms\n",
            " Frequent sequences count : 497\n",
            " Max memory (mb) : 10.69921875\n",
            " minsup = 20 sequences.\n",
            " Pattern count : 497\n",
            "===================================================\n",
            "\n",
            "\n",
            ">/usr/local/lib/python3.8/dist-packages/spmf/spmf.jar\n",
            "=============  PREFIXSPAN 0.99-2016 - STATISTICS =============\n",
            " Total time ~ 148 ms\n",
            " Frequent sequences count : 159\n",
            " Max memory (mb) : 10.69921875\n",
            " minsup = 31 sequences.\n",
            " Pattern count : 159\n",
            "===================================================\n",
            "\n",
            "\n",
            ">/usr/local/lib/python3.8/dist-packages/spmf/spmf.jar\n",
            "=============  PREFIXSPAN 0.99-2016 - STATISTICS =============\n",
            " Total time ~ 73 ms\n",
            " Frequent sequences count : 70\n",
            " Max memory (mb) : 9.69921875\n",
            " minsup = 41 sequences.\n",
            " Pattern count : 70\n",
            "===================================================\n",
            "\n",
            "\n",
            ">/usr/local/lib/python3.8/dist-packages/spmf/spmf.jar\n",
            "=============  PREFIXSPAN 0.99-2016 - STATISTICS =============\n",
            " Total time ~ 114 ms\n",
            " Frequent sequences count : 39\n",
            " Max memory (mb) : 9.101211547851562\n",
            " minsup = 51 sequences.\n",
            " Pattern count : 39\n",
            "===================================================\n",
            "\n",
            "\n",
            ">/usr/local/lib/python3.8/dist-packages/spmf/spmf.jar\n",
            "=============  PREFIXSPAN 0.99-2016 - STATISTICS =============\n",
            " Total time ~ 71 ms\n",
            " Frequent sequences count : 19\n",
            " Max memory (mb) : 8.69921875\n",
            " minsup = 61 sequences.\n",
            " Pattern count : 19\n",
            "===================================================\n",
            "\n",
            "\n",
            ">/usr/local/lib/python3.8/dist-packages/spmf/spmf.jar\n",
            "=============  PREFIXSPAN 0.99-2016 - STATISTICS =============\n",
            " Total time ~ 16 ms\n",
            " Frequent sequences count : 8\n",
            " Max memory (mb) : 8.101280212402344\n",
            " minsup = 71 sequences.\n",
            " Pattern count : 8\n",
            "===================================================\n",
            "\n",
            "\n",
            ">/usr/local/lib/python3.8/dist-packages/spmf/spmf.jar\n",
            "=============  PREFIXSPAN 0.99-2016 - STATISTICS =============\n",
            " Total time ~ 15 ms\n",
            " Frequent sequences count : 4\n",
            " Max memory (mb) : 7.901313781738281\n",
            " minsup = 81 sequences.\n",
            " Pattern count : 4\n",
            "===================================================\n",
            "\n",
            "\n",
            ">/usr/local/lib/python3.8/dist-packages/spmf/spmf.jar\n",
            "=============  PREFIXSPAN 0.99-2016 - STATISTICS =============\n",
            " Total time ~ 19 ms\n",
            " Frequent sequences count : 3\n",
            " Max memory (mb) : 8.115028381347656\n",
            " minsup = 91 sequences.\n",
            " Pattern count : 3\n",
            "===================================================\n",
            "\n",
            "\n",
            ">/usr/local/lib/python3.8/dist-packages/spmf/spmf.jar\n",
            "=============  PREFIXSPAN 0.99-2016 - STATISTICS =============\n",
            " Total time ~ 57 ms\n",
            " Frequent sequences count : 256\n",
            " Max memory (mb) : 10.69921875\n",
            " minsup = 20 sequences.\n",
            " Pattern count : 256\n",
            "===================================================\n",
            "\n",
            "\n",
            ">/usr/local/lib/python3.8/dist-packages/spmf/spmf.jar\n",
            "=============  PREFIXSPAN 0.99-2016 - STATISTICS =============\n",
            " Total time ~ 26 ms\n",
            " Frequent sequences count : 55\n",
            " Max memory (mb) : 9.301239013671875\n",
            " minsup = 31 sequences.\n",
            " Pattern count : 55\n",
            "===================================================\n",
            "\n",
            "\n",
            ">/usr/local/lib/python3.8/dist-packages/spmf/spmf.jar\n",
            "=============  PREFIXSPAN 0.99-2016 - STATISTICS =============\n",
            " Total time ~ 21 ms\n",
            " Frequent sequences count : 15\n",
            " Max memory (mb) : 8.69921875\n",
            " minsup = 41 sequences.\n",
            " Pattern count : 15\n",
            "===================================================\n",
            "\n",
            "\n",
            ">/usr/local/lib/python3.8/dist-packages/spmf/spmf.jar\n",
            "=============  PREFIXSPAN 0.99-2016 - STATISTICS =============\n",
            " Total time ~ 21 ms\n",
            " Frequent sequences count : 15\n",
            " Max memory (mb) : 8.69921875\n",
            " minsup = 51 sequences.\n",
            " Pattern count : 15\n",
            "===================================================\n",
            "\n",
            "\n",
            ">/usr/local/lib/python3.8/dist-packages/spmf/spmf.jar\n",
            "=============  PREFIXSPAN 0.99-2016 - STATISTICS =============\n",
            " Total time ~ 22 ms\n",
            " Frequent sequences count : 15\n",
            " Max memory (mb) : 8.501510620117188\n",
            " minsup = 61 sequences.\n",
            " Pattern count : 15\n",
            "===================================================\n",
            "\n",
            "\n",
            ">/usr/local/lib/python3.8/dist-packages/spmf/spmf.jar\n",
            "=============  PREFIXSPAN 0.99-2016 - STATISTICS =============\n",
            " Total time ~ 12 ms\n",
            " Frequent sequences count : 4\n",
            " Max memory (mb) : 8.115089416503906\n",
            " minsup = 71 sequences.\n",
            " Pattern count : 4\n",
            "===================================================\n",
            "\n",
            "\n",
            ">/usr/local/lib/python3.8/dist-packages/spmf/spmf.jar\n",
            "=============  PREFIXSPAN 0.99-2016 - STATISTICS =============\n",
            " Total time ~ 8 ms\n",
            " Frequent sequences count : 0\n",
            " Max memory (mb) : 0.0\n",
            " minsup = 81 sequences.\n",
            " Pattern count : 0\n",
            "===================================================\n",
            "\n",
            "\n",
            ">/usr/local/lib/python3.8/dist-packages/spmf/spmf.jar\n",
            "=============  PREFIXSPAN 0.99-2016 - STATISTICS =============\n",
            " Total time ~ 10 ms\n",
            " Frequent sequences count : 0\n",
            " Max memory (mb) : 0.0\n",
            " minsup = 91 sequences.\n",
            " Pattern count : 0\n",
            "===================================================\n",
            "\n",
            "\n"
          ]
        }
      ]
    },
    {
      "cell_type": "code",
      "source": [
        "plt.figure(figsize=(10,7))\n",
        "plt.plot([str(round(x,1)) for x in  np.arange(0.2,1,0.1)], list_patterns[0],color='red',marker='o')\n",
        "plt.plot([str(round(x,1)) for x in  np.arange(0.2,1,0.1)], list_patterns[1],color='green',marker='o')\n",
        "plt.plot([str(round(x,1)) for x in  np.arange(0.2,1,0.1)], list_patterns[2],color='brown',marker='o')\n",
        "plt.plot([str(round(x,1)) for x in  np.arange(0.2,1,0.1)], list_patterns[3],color='blue',marker='o')\n",
        "\n",
        "plt.xlabel(\"min_sup\")\n",
        "plt.ylabel(\"Frequency\")\n",
        "plt.title('Frequency by min_sup plot')\n",
        "plt.legend(name_db)\n",
        "plt.show()"
      ],
      "metadata": {
        "colab": {
          "base_uri": "https://localhost:8080/",
          "height": 459
        },
        "id": "9jMQq8tV9wEb",
        "outputId": "da987ce8-34e1-4e24-a346-0787acc9455e"
      },
      "execution_count": 17,
      "outputs": [
        {
          "output_type": "display_data",
          "data": {
            "text/plain": [
              "<Figure size 720x504 with 1 Axes>"
            ],
            "image/png": "[encoded data removed]"
          },
          "metadata": {
            "needs_background": "light"
          }
        }
      ]
    },
    {
      "cell_type": "markdown",
      "source": [
        "**Q - 1.4**"
      ],
      "metadata": {
        "id": "z85rnTi08DP_"
      }
    },
    {
      "cell_type": "code",
      "source": [
        "spmf = Spmf(\"VMSP\", input_filename=f'readme_{0}_{3}.txt',output_filename='output_try.txt', arguments=[0.8])\n",
        "spmf.run()\n",
        "print(spmf.to_pandas_dataframe(pickle=True))"
      ],
      "metadata": {
        "id": "lPDsiGox6tIi",
        "colab": {
          "base_uri": "https://localhost:8080/"
        },
        "outputId": "fd10c7fc-5625-4567-e6bb-9e457fffaf6b"
      },
      "execution_count": 18,
      "outputs": [
        {
          "output_type": "stream",
          "name": "stdout",
          "text": [
            ">/usr/local/lib/python3.8/dist-packages/spmf/spmf.jar\n",
            "=============  VMSP v0.97 - STATISTICS =============\n",
            " Total time ~ 56 ms\n",
            " Frequent sequences count : 35\n",
            " Max memory (mb) : 8.6992187535\n",
            "minsup 80\n",
            "Intersection count 159 \n",
            "===================================================\n",
            "\n",
            "\n",
            "      pattern  sup\n",
            "0   [8, 8, 8]   82\n",
            "1    [5 8, 8]   82\n",
            "2   [8, 8, 5]   82\n",
            "3    [8, 5 8]   87\n",
            "4   [8, 5, 8]   81\n",
            "5   [5, 8, 8]   80\n",
            "6   [5, 8, 5]   80\n",
            "7   [8, 8, 2]   82\n",
            "8    [8, 2 8]   87\n",
            "9   [8, 2, 8]   81\n",
            "10  [2, 8, 8]   82\n",
            "11   [5, 5 8]   81\n",
            "12   [5 8, 5]   80\n",
            "13   [2 8, 8]   86\n",
            "14   [2 5, 8]   87\n",
            "15   [5 8, 2]   83\n",
            "16  [2, 5, 8]   81\n",
            "17   [5, 2 8]   86\n",
            "18  [5, 2, 8]   81\n",
            "19  [2, 8, 5]   81\n",
            "20   [2 8, 5]   86\n",
            "21   [2, 5 8]   83\n",
            "22  [8, 2, 5]   80\n",
            "23  [8, 5, 2]   80\n",
            "24   [8, 2 5]   83\n",
            "25    [2 5 8]   84\n",
            "26   [2, 2 8]   90\n",
            "27   [2 8, 2]   85\n",
            "28  [8, 2, 2]   81\n",
            "29  [2, 2, 8]   81\n",
            "30   [5, 2 5]   80\n",
            "31   [2 5, 2]   85\n",
            "32   [2, 2 5]   83\n",
            "33  [5, 2, 2]   81\n",
            "34  [2, 2, 2]   84\n"
          ]
        }
      ]
    },
    {
      "cell_type": "markdown",
      "source": [
        "**Q - 1.5**"
      ],
      "metadata": {
        "id": "XPfsUXaC8Pl_"
      }
    },
    {
      "cell_type": "code",
      "source": [
        "spmf = Spmf(\"BIDE+\", input_filename=f'readme_{0}_{3}.txt',output_filename='output_try.txt', arguments=[0.8])\n",
        "spmf.run()\n",
        "print(spmf.to_pandas_dataframe(pickle=True))"
      ],
      "metadata": {
        "id": "J2c7n3lhOg4I",
        "colab": {
          "base_uri": "https://localhost:8080/"
        },
        "outputId": "32d2258c-0421-4bba-f824-3cb83ee9594c"
      },
      "execution_count": 19,
      "outputs": [
        {
          "output_type": "stream",
          "name": "stdout",
          "text": [
            ">/usr/local/lib/python3.8/dist-packages/spmf/spmf.jar\n",
            "============  BIDE+ - SPMF 0.99c - 2016 - STATISTICS =====\n",
            " Total time ~ 130 ms\n",
            " Frequent sequences count : 50\n",
            " Max memory (mb) : 10.69921875\n",
            " minsup = 80 sequences.\n",
            " Pattern count : 50\n",
            "==========================================================\n",
            "\n",
            "\n",
            "      pattern  sup\n",
            "0     [2 5 8]   84\n",
            "1    [2 5, 2]   85\n",
            "2    [2 5, 8]   87\n",
            "3       [2 5]   94\n",
            "4    [2 8, 2]   85\n",
            "5    [2 8, 5]   86\n",
            "6    [2 8, 8]   86\n",
            "7       [2 8]   98\n",
            "8    [2, 2 5]   83\n",
            "9    [2, 2 8]   90\n",
            "10  [2, 2, 2]   84\n",
            "11  [2, 2, 8]   81\n",
            "12     [2, 2]   98\n",
            "13   [2, 5 8]   83\n",
            "14  [2, 5, 8]   81\n",
            "15     [2, 5]   96\n",
            "16  [2, 8, 5]   81\n",
            "17  [2, 8, 8]   82\n",
            "18     [2, 8]   97\n",
            "19        [2]  100\n",
            "20   [5 8, 2]   83\n",
            "21   [5 8, 5]   80\n",
            "22   [5 8, 8]   82\n",
            "23      [5 8]   95\n",
            "24   [5, 2 5]   80\n",
            "25   [5, 2 8]   86\n",
            "26  [5, 2, 2]   81\n",
            "27  [5, 2, 8]   81\n",
            "28     [5, 2]   95\n",
            "29   [5, 5 8]   81\n",
            "30     [5, 5]   90\n",
            "31  [5, 8, 5]   80\n",
            "32  [5, 8, 8]   80\n",
            "33     [5, 8]   96\n",
            "34        [5]  100\n",
            "35   [8, 2 5]   83\n",
            "36   [8, 2 8]   87\n",
            "37  [8, 2, 2]   81\n",
            "38  [8, 2, 5]   80\n",
            "39  [8, 2, 8]   81\n",
            "40     [8, 2]   96\n",
            "41   [8, 5 8]   87\n",
            "42  [8, 5, 2]   80\n",
            "43  [8, 5, 8]   81\n",
            "44     [8, 5]   97\n",
            "45  [8, 8, 2]   82\n",
            "46  [8, 8, 5]   82\n",
            "47  [8, 8, 8]   82\n",
            "48     [8, 8]   98\n",
            "49        [8]  100\n"
          ]
        }
      ]
    },
    {
      "cell_type": "markdown",
      "source": [
        "#Q2#\n"
      ],
      "metadata": {
        "id": "pKFapUNJ9jdz"
      }
    },
    {
      "cell_type": "code",
      "source": [
        "data_2 =pd.read_csv('Question2.csv')\n",
        "data_2.head()"
      ],
      "metadata": {
        "colab": {
          "base_uri": "https://localhost:8080/",
          "height": 206
        },
        "id": "pp1r8_w_9zuL",
        "outputId": "0f1cdf03-5ed9-419e-debf-0a24a335bf79"
      },
      "execution_count": 20,
      "outputs": [
        {
          "output_type": "execute_result",
          "data": {
            "text/plain": [
              "   SID  Team              Events  \\\n",
              "0    0  1609  [8, 8, 8, 8, 8, 8]   \n",
              "1    1  1631              [8, 1]   \n",
              "2    2  1609        [1, 8, 8, 8]   \n",
              "3    3  1609              [1, 8]   \n",
              "4    4  1631     [8, 8, 8, 8, 8]   \n",
              "\n",
              "                                        Event Names                Sub Events  \\\n",
              "0  ['Pass', 'Pass', 'Pass', 'Pass', 'Pass', 'Pass']  [85, 83, 82, 82, 85, 85]   \n",
              "1                                  ['Pass', 'Duel']                  [82, 10]   \n",
              "2                  ['Duel', 'Pass', 'Pass', 'Pass']          [10, 82, 82, 83]   \n",
              "3                                  ['Duel', 'Pass']                  [10, 83]   \n",
              "4          ['Pass', 'Pass', 'Pass', 'Pass', 'Pass']      [82, 82, 85, 85, 83]   \n",
              "\n",
              "                                     Sub Event Names  \n",
              "0  ['Simple pass', 'High pass', 'Head pass', 'Hea...  \n",
              "1                          ['Head pass', 'Air duel']  \n",
              "2  ['Air duel', 'Head pass', 'Head pass', 'High p...  \n",
              "3                          ['Air duel', 'High pass']  \n",
              "4  ['Head pass', 'Head pass', 'Simple pass', 'Sim...  "
            ],
            "text/html": [
              "\n",
              "  <div id=\"df-daef09bb-b6ba-4b66-a1c5-8ef883e59349\">\n",
              "    <div class=\"colab-df-container\">\n",
              "      <div>\n",
              "<style scoped>\n",
              "    .dataframe tbody tr th:only-of-type {\n",
              "        vertical-align: middle;\n",
              "    }\n",
              "\n",
              "    .dataframe tbody tr th {\n",
              "        vertical-align: top;\n",
              "    }\n",
              "\n",
              "    .dataframe thead th {\n",
              "        text-align: right;\n",
              "    }\n",
              "</style>\n",
              "<table border=\"1\" class=\"dataframe\">\n",
              "  <thead>\n",
              "    <tr style=\"text-align: right;\">\n",
              "      <th></th>\n",
              "      <th>SID</th>\n",
              "      <th>Team</th>\n",
              "      <th>Events</th>\n",
              "      <th>Event Names</th>\n",
              "      <th>Sub Events</th>\n",
              "      <th>Sub Event Names</th>\n",
              "    </tr>\n",
              "  </thead>\n",
              "  <tbody>\n",
              "    <tr>\n",
              "      <th>0</th>\n",
              "      <td>0</td>\n",
              "      <td>1609</td>\n",
              "      <td>[8, 8, 8, 8, 8, 8]</td>\n",
              "      <td>['Pass', 'Pass', 'Pass', 'Pass', 'Pass', 'Pass']</td>\n",
              "      <td>[85, 83, 82, 82, 85, 85]</td>\n",
              "      <td>['Simple pass', 'High pass', 'Head pass', 'Hea...</td>\n",
              "    </tr>\n",
              "    <tr>\n",
              "      <th>1</th>\n",
              "      <td>1</td>\n",
              "      <td>1631</td>\n",
              "      <td>[8, 1]</td>\n",
              "      <td>['Pass', 'Duel']</td>\n",
              "      <td>[82, 10]</td>\n",
              "      <td>['Head pass', 'Air duel']</td>\n",
              "    </tr>\n",
              "    <tr>\n",
              "      <th>2</th>\n",
              "      <td>2</td>\n",
              "      <td>1609</td>\n",
              "      <td>[1, 8, 8, 8]</td>\n",
              "      <td>['Duel', 'Pass', 'Pass', 'Pass']</td>\n",
              "      <td>[10, 82, 82, 83]</td>\n",
              "      <td>['Air duel', 'Head pass', 'Head pass', 'High p...</td>\n",
              "    </tr>\n",
              "    <tr>\n",
              "      <th>3</th>\n",
              "      <td>3</td>\n",
              "      <td>1609</td>\n",
              "      <td>[1, 8]</td>\n",
              "      <td>['Duel', 'Pass']</td>\n",
              "      <td>[10, 83]</td>\n",
              "      <td>['Air duel', 'High pass']</td>\n",
              "    </tr>\n",
              "    <tr>\n",
              "      <th>4</th>\n",
              "      <td>4</td>\n",
              "      <td>1631</td>\n",
              "      <td>[8, 8, 8, 8, 8]</td>\n",
              "      <td>['Pass', 'Pass', 'Pass', 'Pass', 'Pass']</td>\n",
              "      <td>[82, 82, 85, 85, 83]</td>\n",
              "      <td>['Head pass', 'Head pass', 'Simple pass', 'Sim...</td>\n",
              "    </tr>\n",
              "  </tbody>\n",
              "</table>\n",
              "</div>\n",
              "      <button class=\"colab-df-convert\" onclick=\"convertToInteractive('df-daef09bb-b6ba-4b66-a1c5-8ef883e59349')\"\n",
              "              title=\"Convert this dataframe to an interactive table.\"\n",
              "              style=\"display:none;\">\n",
              "        \n",
              "  <svg xmlns=\"http://www.w3.org/2000/svg\" height=\"24px\"viewBox=\"0 0 24 24\"\n",
              "       width=\"24px\">\n",
              "    <path d=\"M0 0h24v24H0V0z\" fill=\"none\"/>\n",
              "    <path d=\"M18.56 5.44l.94 2.06.94-2.06 2.06-.94-2.06-.94-.94-2.06-.94 2.06-2.06.94zm-11 1L8.5 8.5l.94-2.06 2.06-.94-2.06-.94L8.5 2.5l-.94 2.06-2.06.94zm10 10l.94 2.06.94-2.06 2.06-.94-2.06-.94-.94-2.06-.94 2.06-2.06.94z\"/><path d=\"M17.41 7.96l-1.37-1.37c-.4-.4-.92-.59-1.43-.59-.52 0-1.04.2-1.43.59L10.3 9.45l-7.72 7.72c-.78.78-.78 2.05 0 2.83L4 21.41c.39.39.9.59 1.41.59.51 0 1.02-.2 1.41-.59l7.78-7.78 2.81-2.81c.8-.78.8-2.07 0-2.86zM5.41 20L4 18.59l7.72-7.72 1.47 1.35L5.41 20z\"/>\n",
              "  </svg>\n",
              "      </button>\n",
              "      \n",
              "  <style>\n",
              "    .colab-df-container {\n",
              "      display:flex;\n",
              "      flex-wrap:wrap;\n",
              "      gap: 12px;\n",
              "    }\n",
              "\n",
              "    .colab-df-convert {\n",
              "      background-color: #E8F0FE;\n",
              "      border: none;\n",
              "      border-radius: 50%;\n",
              "      cursor: pointer;\n",
              "      display: none;\n",
              "      fill: #1967D2;\n",
              "      height: 32px;\n",
              "      padding: 0 0 0 0;\n",
              "      width: 32px;\n",
              "    }\n",
              "\n",
              "    .colab-df-convert:hover {\n",
              "      background-color: #E2EBFA;\n",
              "      box-shadow: 0px 1px 2px rgba(60, 64, 67, 0.3), 0px 1px 3px 1px rgba(60, 64, 67, 0.15);\n",
              "      fill: #174EA6;\n",
              "    }\n",
              "\n",
              "    [theme=dark] .colab-df-convert {\n",
              "      background-color: #3B4455;\n",
              "      fill: #D2E3FC;\n",
              "    }\n",
              "\n",
              "    [theme=dark] .colab-df-convert:hover {\n",
              "      background-color: #434B5C;\n",
              "      box-shadow: 0px 1px 3px 1px rgba(0, 0, 0, 0.15);\n",
              "      filter: drop-shadow(0px 1px 2px rgba(0, 0, 0, 0.3));\n",
              "      fill: #FFFFFF;\n",
              "    }\n",
              "  </style>\n",
              "\n",
              "      <script>\n",
              "        const buttonEl =\n",
              "          document.querySelector('#df-daef09bb-b6ba-4b66-a1c5-8ef883e59349 button.colab-df-convert');\n",
              "        buttonEl.style.display =\n",
              "          google.colab.kernel.accessAllowed ? 'block' : 'none';\n",
              "\n",
              "        async function convertToInteractive(key) {\n",
              "          const element = document.querySelector('#df-daef09bb-b6ba-4b66-a1c5-8ef883e59349');\n",
              "          const dataTable =\n",
              "            await google.colab.kernel.invokeFunction('convertToInteractive',\n",
              "                                                     [key], {});\n",
              "          if (!dataTable) return;\n",
              "\n",
              "          const docLinkHtml = 'Like what you see? Visit the ' +\n",
              "            '<a target=\"_blank\" href=https://colab.research.google.com/notebooks/data_table.ipynb>data table notebook</a>'\n",
              "            + ' to learn more about interactive tables.';\n",
              "          element.innerHTML = '';\n",
              "          dataTable['output_type'] = 'display_data';\n",
              "          await google.colab.output.renderOutput(dataTable, element);\n",
              "          const docLink = document.createElement('div');\n",
              "          docLink.innerHTML = docLinkHtml;\n",
              "          element.appendChild(docLink);\n",
              "        }\n",
              "      </script>\n",
              "    </div>\n",
              "  </div>\n",
              "  "
            ]
          },
          "metadata": {},
          "execution_count": 20
        }
      ]
    },
    {
      "cell_type": "markdown",
      "source": [
        "**Q - 2.1**"
      ],
      "metadata": {
        "id": "Jb_BpS0Y9m6I"
      }
    },
    {
      "cell_type": "code",
      "source": [
        "with open('q2_sub_events.txt', 'w') as f:\n",
        "  for index,row in data_2.iterrows():\n",
        "    f.write(str(row['Sub Events'][1:-1].replace(',',' -1') +' -2\\n'))"
      ],
      "metadata": {
        "id": "Pex_cUCK_Vrj"
      },
      "execution_count": 21,
      "outputs": []
    },
    {
      "cell_type": "code",
      "source": [
        "list_patterns_sub_events=[]\n",
        "for min_sup in np.arange(0.05,0.45,0.05):\n",
        "    spmf = Spmf(\"PrefixSpan\", input_filename='q2_sub_events.txt',output_filename=f'output_{round(min_sup,2)}_sub_events.txt', arguments=[min_sup])\n",
        "    spmf.run()\n",
        "    list_patterns_sub_events.append(spmf.to_pandas_dataframe(pickle=True).shape[0])"
      ],
      "metadata": {
        "id": "MKpZy5POCSu4",
        "colab": {
          "base_uri": "https://localhost:8080/"
        },
        "outputId": "428e8963-d1b6-485d-8994-bd7476f58f47"
      },
      "execution_count": 22,
      "outputs": [
        {
          "output_type": "stream",
          "name": "stdout",
          "text": [
            ">/usr/local/lib/python3.8/dist-packages/spmf/spmf.jar\n",
            "=============  PREFIXSPAN 0.99-2016 - STATISTICS =============\n",
            " Total time ~ 17 ms\n",
            " Frequent sequences count : 28\n",
            " Max memory (mb) : 8.101272583007812\n",
            " minsup = 19 sequences.\n",
            " Pattern count : 28\n",
            "===================================================\n",
            "\n",
            "\n",
            ">/usr/local/lib/python3.8/dist-packages/spmf/spmf.jar\n",
            "=============  PREFIXSPAN 0.99-2016 - STATISTICS =============\n",
            " Total time ~ 17 ms\n",
            " Frequent sequences count : 14\n",
            " Max memory (mb) : 8.101272583007812\n",
            " minsup = 38 sequences.\n",
            " Pattern count : 14\n",
            "===================================================\n",
            "\n",
            "\n",
            ">/usr/local/lib/python3.8/dist-packages/spmf/spmf.jar\n",
            "=============  PREFIXSPAN 0.99-2016 - STATISTICS =============\n",
            " Total time ~ 21 ms\n",
            " Frequent sequences count : 8\n",
            " Max memory (mb) : 7.901191711425781\n",
            " minsup = 57 sequences.\n",
            " Pattern count : 8\n",
            "===================================================\n",
            "\n",
            "\n",
            ">/usr/local/lib/python3.8/dist-packages/spmf/spmf.jar\n",
            "=============  PREFIXSPAN 0.99-2016 - STATISTICS =============\n",
            " Total time ~ 17 ms\n",
            " Frequent sequences count : 4\n",
            " Max memory (mb) : 8.101272583007812\n",
            " minsup = 76 sequences.\n",
            " Pattern count : 4\n",
            "===================================================\n",
            "\n",
            "\n",
            ">/usr/local/lib/python3.8/dist-packages/spmf/spmf.jar\n",
            "=============  PREFIXSPAN 0.99-2016 - STATISTICS =============\n",
            " Total time ~ 38 ms\n",
            " Frequent sequences count : 2\n",
            " Max memory (mb) : 7.9011993408203125\n",
            " minsup = 95 sequences.\n",
            " Pattern count : 2\n",
            "===================================================\n",
            "\n",
            "\n",
            ">/usr/local/lib/python3.8/dist-packages/spmf/spmf.jar\n",
            "=============  PREFIXSPAN 0.99-2016 - STATISTICS =============\n",
            " Total time ~ 26 ms\n",
            " Frequent sequences count : 1\n",
            " Max memory (mb) : 8.101272583007812\n",
            " minsup = 114 sequences.\n",
            " Pattern count : 1\n",
            "===================================================\n",
            "\n",
            "\n",
            ">/usr/local/lib/python3.8/dist-packages/spmf/spmf.jar\n",
            "=============  PREFIXSPAN 0.99-2016 - STATISTICS =============\n",
            " Total time ~ 24 ms\n",
            " Frequent sequences count : 1\n",
            " Max memory (mb) : 7.901191711425781\n",
            " minsup = 133 sequences.\n",
            " Pattern count : 1\n",
            "===================================================\n",
            "\n",
            "\n",
            ">/usr/local/lib/python3.8/dist-packages/spmf/spmf.jar\n",
            "=============  PREFIXSPAN 0.99-2016 - STATISTICS =============\n",
            " Total time ~ 12 ms\n",
            " Frequent sequences count : 1\n",
            " Max memory (mb) : 8.101272583007812\n",
            " minsup = 152 sequences.\n",
            " Pattern count : 1\n",
            "===================================================\n",
            "\n",
            "\n"
          ]
        }
      ]
    },
    {
      "cell_type": "code",
      "source": [
        "plt.figure(figsize=(10,7))\n",
        "plt.plot([str(round(x,2)) for x in  np.arange(0.05,0.45,0.05)], list_patterns_sub_events,color='blue',marker='o')\n",
        "\n",
        "plt.xlabel(\"min_sup\")\n",
        "plt.ylabel(\"Frequency\")\n",
        "plt.title('Frequency by min_sup plot')\n",
        "plt.show()"
      ],
      "metadata": {
        "id": "vwJC678cCwdB",
        "colab": {
          "base_uri": "https://localhost:8080/",
          "height": 459
        },
        "outputId": "c7dd73c6-e125-4c5b-bb2e-fc3f917cba2d"
      },
      "execution_count": 23,
      "outputs": [
        {
          "output_type": "display_data",
          "data": {
            "text/plain": [
              "<Figure size 720x504 with 1 Axes>"
            ],
            "image/png": "[encoded data removed]"
          },
          "metadata": {
            "needs_background": "light"
          }
        }
      ]
    },
    {
      "cell_type": "markdown",
      "source": [
        "**Q - 2.2**\n",
        "\n",
        "it is differ from Q1:\n",
        "First of all it dependent in the database size (transactions number). \n",
        "Second we have less combinations of events cause we don't have here situations that two events can occur toghther.\n",
        "\n",
        "if our database was represent a commercial site it was bigger because of the number of events that we have, and again the reason that the combination here is less then comercial site that we can buy couple of items toghther. "
      ],
      "metadata": {
        "id": "nhv-N2un9p4j"
      }
    },
    {
      "cell_type": "markdown",
      "source": [
        "**Q - 2.3**"
      ],
      "metadata": {
        "id": "Vouyx2o29uwQ"
      }
    },
    {
      "cell_type": "code",
      "source": [
        "with open('q2_events.txt', 'w') as f:\n",
        "  for index,row in data_2.iterrows():\n",
        "    f.write(str(row['Events'][1:-1].replace(',',' -1') +' -2\\n'))"
      ],
      "metadata": {
        "id": "Ehub-vRdFSWA"
      },
      "execution_count": 24,
      "outputs": []
    },
    {
      "cell_type": "code",
      "source": [
        "list_patterns_events=[]\n",
        "for min_sup in np.arange(0.05,0.45,0.05):\n",
        "    spmf = Spmf(\"PrefixSpan\", input_filename='q2_events.txt',output_filename=f'output_{round(min_sup,2)}_events.txt', arguments=[min_sup])\n",
        "    spmf.run()\n",
        "    list_patterns_events.append(spmf.to_pandas_dataframe(pickle=True).shape[0])"
      ],
      "metadata": {
        "id": "7-6Hx-R2Fest",
        "colab": {
          "base_uri": "https://localhost:8080/"
        },
        "outputId": "a190aa94-6981-4c71-966f-3312b6cdb712"
      },
      "execution_count": 25,
      "outputs": [
        {
          "output_type": "stream",
          "name": "stdout",
          "text": [
            ">/usr/local/lib/python3.8/dist-packages/spmf/spmf.jar\n",
            "=============  PREFIXSPAN 0.99-2016 - STATISTICS =============\n",
            " Total time ~ 16 ms\n",
            " Frequent sequences count : 33\n",
            " Max memory (mb) : 8.103302001953125\n",
            " minsup = 19 sequences.\n",
            " Pattern count : 33\n",
            "===================================================\n",
            "\n",
            "\n",
            ">/usr/local/lib/python3.8/dist-packages/spmf/spmf.jar\n",
            "=============  PREFIXSPAN 0.99-2016 - STATISTICS =============\n",
            " Total time ~ 32 ms\n",
            " Frequent sequences count : 17\n",
            " Max memory (mb) : 8.103302001953125\n",
            " minsup = 38 sequences.\n",
            " Pattern count : 17\n",
            "===================================================\n",
            "\n",
            "\n",
            ">/usr/local/lib/python3.8/dist-packages/spmf/spmf.jar\n",
            "=============  PREFIXSPAN 0.99-2016 - STATISTICS =============\n",
            " Total time ~ 17 ms\n",
            " Frequent sequences count : 9\n",
            " Max memory (mb) : 8.114906311035156\n",
            " minsup = 57 sequences.\n",
            " Pattern count : 9\n",
            "===================================================\n",
            "\n",
            "\n",
            ">/usr/local/lib/python3.8/dist-packages/spmf/spmf.jar\n",
            "=============  PREFIXSPAN 0.99-2016 - STATISTICS =============\n",
            " Total time ~ 14 ms\n",
            " Frequent sequences count : 7\n",
            " Max memory (mb) : 7.901214599609375\n",
            " minsup = 76 sequences.\n",
            " Pattern count : 7\n",
            "===================================================\n",
            "\n",
            "\n",
            ">/usr/local/lib/python3.8/dist-packages/spmf/spmf.jar\n",
            "=============  PREFIXSPAN 0.99-2016 - STATISTICS =============\n",
            " Total time ~ 15 ms\n",
            " Frequent sequences count : 6\n",
            " Max memory (mb) : 7.901214599609375\n",
            " minsup = 95 sequences.\n",
            " Pattern count : 6\n",
            "===================================================\n",
            "\n",
            "\n",
            ">/usr/local/lib/python3.8/dist-packages/spmf/spmf.jar\n",
            "=============  PREFIXSPAN 0.99-2016 - STATISTICS =============\n",
            " Total time ~ 15 ms\n",
            " Frequent sequences count : 3\n",
            " Max memory (mb) : 8.103302001953125\n",
            " minsup = 114 sequences.\n",
            " Pattern count : 3\n",
            "===================================================\n",
            "\n",
            "\n",
            ">/usr/local/lib/python3.8/dist-packages/spmf/spmf.jar\n",
            "=============  PREFIXSPAN 0.99-2016 - STATISTICS =============\n",
            " Total time ~ 15 ms\n",
            " Frequent sequences count : 3\n",
            " Max memory (mb) : 8.114906311035156\n",
            " minsup = 133 sequences.\n",
            " Pattern count : 3\n",
            "===================================================\n",
            "\n",
            "\n",
            ">/usr/local/lib/python3.8/dist-packages/spmf/spmf.jar\n",
            "=============  PREFIXSPAN 0.99-2016 - STATISTICS =============\n",
            " Total time ~ 13 ms\n",
            " Frequent sequences count : 2\n",
            " Max memory (mb) : 8.103302001953125\n",
            " minsup = 152 sequences.\n",
            " Pattern count : 2\n",
            "===================================================\n",
            "\n",
            "\n"
          ]
        }
      ]
    },
    {
      "cell_type": "code",
      "source": [
        "plt.figure(figsize=(10,7))\n",
        "plt.plot([str(round(x,2)) for x in  np.arange(0.05,0.45,0.05)], list_patterns_events,color='blue',marker='o')\n",
        "\n",
        "plt.xlabel(\"min_sup\")\n",
        "plt.ylabel(\"Frequency\")\n",
        "plt.title('Frequency by min_sup plot')\n",
        "plt.show()"
      ],
      "metadata": {
        "id": "4zM7zx-qFgAC",
        "colab": {
          "base_uri": "https://localhost:8080/",
          "height": 459
        },
        "outputId": "76dc8e53-5276-4d4b-8fe3-f8b07ab36171"
      },
      "execution_count": 26,
      "outputs": [
        {
          "output_type": "display_data",
          "data": {
            "text/plain": [
              "<Figure size 720x504 with 1 Axes>"
            ],
            "image/png": "[encoded data removed]"
          },
          "metadata": {
            "needs_background": "light"
          }
        }
      ]
    },
    {
      "cell_type": "markdown",
      "source": [
        "First, the amount of patterns we will discover will be greater in the event, but when we reduce the minimum support more, then the situation will change, so a sub-event will indicate a larger number of patterns.\n",
        "It is important to note that the number of possible combinations of a sub-event is greater than the number of situations that will be generated when we consider only the event.\n",
        "In addition, when we want to derive insights, it would be more correct to look at sub-events because that way we can know in detail, for example, what led to a goal."
      ],
      "metadata": {
        "id": "-KaHL56_HpW7"
      }
    },
    {
      "cell_type": "markdown",
      "source": [
        "**Q - 2.4**"
      ],
      "metadata": {
        "id": "Kpbudgk_9vqq"
      }
    },
    {
      "cell_type": "code",
      "source": [
        "spmf = Spmf(\"PrefixSpan\", input_filename='q2_events.txt',output_filename=f'output_{round(min_sup,2)}_events.txt', arguments=[0])\n",
        "spmf.run()\n",
        "df_event = spmf.to_pandas_dataframe(pickle=True)"
      ],
      "metadata": {
        "id": "z-GROp42JkQY",
        "colab": {
          "base_uri": "https://localhost:8080/"
        },
        "outputId": "6130a892-1017-4491-a953-44b2d26c0a27"
      },
      "execution_count": 27,
      "outputs": [
        {
          "output_type": "stream",
          "name": "stdout",
          "text": [
            ">/usr/local/lib/python3.8/dist-packages/spmf/spmf.jar\n",
            "=============  PREFIXSPAN 0.99-2016 - STATISTICS =============\n",
            " Total time ~ 48 ms\n",
            " Frequent sequences count : 588\n",
            " Max memory (mb) : 8.50341796875\n",
            " minsup = 1 sequences.\n",
            " Pattern count : 588\n",
            "===================================================\n",
            "\n",
            "\n"
          ]
        }
      ]
    },
    {
      "cell_type": "code",
      "source": [
        "count_8_8_8 = df_event[df_event.pattern.apply(lambda x: x == ['8','8','8'])]['sup'].values[0]\n",
        "count_attack = data_2.shape[0]\n",
        "print(f'{round((count_8_8_8/count_attack)*100,2)}% of attacks occur at least 3 ball passes by the same team')"
      ],
      "metadata": {
        "colab": {
          "base_uri": "https://localhost:8080/"
        },
        "id": "X1ibkfaRLTqv",
        "outputId": "ea96bb96-a2cc-4821-c4b4-c09bb5d920a8"
      },
      "execution_count": 28,
      "outputs": [
        {
          "output_type": "stream",
          "name": "stdout",
          "text": [
            "25.59% of attacks occur at least 3 ball passes by the same team\n"
          ]
        }
      ]
    },
    {
      "cell_type": "markdown",
      "source": [
        "**Q - 2.5**"
      ],
      "metadata": {
        "id": "WSGGUaUj9wYZ"
      }
    },
    {
      "cell_type": "code",
      "source": [
        "spmf = Spmf(\"PrefixSpan\", input_filename='q2_sub_events.txt',output_filename=f'output_{round(min_sup,2)}_events.txt', arguments=[0])\n",
        "spmf.run()\n",
        "df_sub_event = spmf.to_pandas_dataframe(pickle=True)"
      ],
      "metadata": {
        "id": "jYsFXPC9bPR4",
        "colab": {
          "base_uri": "https://localhost:8080/"
        },
        "outputId": "f567105d-b025-4cf7-916f-eecf8ff3ae27"
      },
      "execution_count": 29,
      "outputs": [
        {
          "output_type": "stream",
          "name": "stdout",
          "text": [
            ">/usr/local/lib/python3.8/dist-packages/spmf/spmf.jar\n",
            "=============  PREFIXSPAN 0.99-2016 - STATISTICS =============\n",
            " Total time ~ 57 ms\n",
            " Frequent sequences count : 3307\n",
            " Max memory (mb) : 9.901191711425781\n",
            " minsup = 1 sequences.\n",
            " Pattern count : 3307\n",
            "===================================================\n",
            "\n",
            "\n"
          ]
        }
      ]
    },
    {
      "cell_type": "code",
      "source": [
        "count_36 = df_sub_event[df_sub_event.pattern.apply(lambda x: x == ['36'])]['sup'].values[0]\n",
        "print(f'{count_36} occur throw in all game')"
      ],
      "metadata": {
        "colab": {
          "base_uri": "https://localhost:8080/"
        },
        "id": "ZALvVlmUcNVA",
        "outputId": "d2503986-795e-4663-c06d-d49ed5b9f019"
      },
      "execution_count": 30,
      "outputs": [
        {
          "output_type": "stream",
          "name": "stdout",
          "text": [
            "47 occur throw in all game\n"
          ]
        }
      ]
    },
    {
      "cell_type": "code",
      "source": [
        "count = 0\n",
        "for i in range(80,87):\n",
        "  try:\n",
        "    count += df_sub_event[df_sub_event.pattern.apply(lambda x: x == ['36', str(i)])]['sup'].values[0]\n",
        "  except:\n",
        "    continue\n",
        "print(f'{round((count/count_36)*100,2)}% throw in that continue to pass in all game')"
      ],
      "metadata": {
        "colab": {
          "base_uri": "https://localhost:8080/"
        },
        "id": "6IG4j69AdTWp",
        "outputId": "51c0e83b-010b-4221-ddac-9e8048f0b378"
      },
      "execution_count": 31,
      "outputs": [
        {
          "output_type": "stream",
          "name": "stdout",
          "text": [
            "72.34% throw in that continue to pass in all game\n"
          ]
        }
      ]
    },
    {
      "cell_type": "markdown",
      "source": [
        "**Q - 2.6**"
      ],
      "metadata": {
        "id": "rG3XBna69xWH"
      }
    },
    {
      "cell_type": "code",
      "source": [
        "spmf = Spmf(\"PrefixSpan\", input_filename='q2_sub_events.txt',output_filename=f'output_{round(min_sup,2)}_events.txt', arguments=[0.09])\n",
        "spmf.run()\n",
        "print(spmf.to_pandas_dataframe(pickle=True))"
      ],
      "metadata": {
        "id": "0HkYAbTNfar4",
        "colab": {
          "base_uri": "https://localhost:8080/"
        },
        "outputId": "38f13eac-480c-41b1-c7cd-8c1e500de017"
      },
      "execution_count": 32,
      "outputs": [
        {
          "output_type": "stream",
          "name": "stdout",
          "text": [
            ">/usr/local/lib/python3.8/dist-packages/spmf/spmf.jar\n",
            "=============  PREFIXSPAN 0.99-2016 - STATISTICS =============\n",
            " Total time ~ 24 ms\n",
            " Frequent sequences count : 16\n",
            " Max memory (mb) : 8.101272583007812\n",
            " minsup = 35 sequences.\n",
            " Pattern count : 16\n",
            "===================================================\n",
            "\n",
            "\n",
            "                 pattern  sup\n",
            "0                   [36]   47\n",
            "1                   [72]   65\n",
            "2                   [10]   58\n",
            "3                   [11]   85\n",
            "4                   [12]   38\n",
            "5                   [13]   51\n",
            "6                   [80]   35\n",
            "7                   [82]   42\n",
            "8                   [50]   73\n",
            "9                   [83]   57\n",
            "10                  [85]  184\n",
            "11              [85, 83]   35\n",
            "12              [85, 85]  112\n",
            "13          [85, 85, 85]   78\n",
            "14      [85, 85, 85, 85]   54\n",
            "15  [85, 85, 85, 85, 85]   40\n"
          ]
        }
      ]
    },
    {
      "cell_type": "markdown",
      "source": [
        "High sequence of 85,83 that is 85 is simple pass and 83 is high pass.\n",
        "It does not help us to understand new information if the pass was high or simple"
      ],
      "metadata": {
        "id": "ZA0FNz1JhmIx"
      }
    },
    {
      "cell_type": "markdown",
      "source": [
        "**Q - 2.7**"
      ],
      "metadata": {
        "id": "RwxxuV8l9yii"
      }
    },
    {
      "cell_type": "markdown",
      "source": [
        "because the number of attack is bigger so the denominator will be bigger there for the min support will decrease and only few sub events will include in the support."
      ],
      "metadata": {
        "id": "3oOm6PgNiAvT"
      }
    },
    {
      "cell_type": "markdown",
      "source": [
        "#Q3#\n"
      ],
      "metadata": {
        "id": "ua-kH91LiuIb"
      }
    },
    {
      "cell_type": "markdown",
      "source": [
        "**Q - 3.1**"
      ],
      "metadata": {
        "id": "lIA4MTKkiv0L"
      }
    },
    {
      "cell_type": "code",
      "source": [
        "data_3 =pd.read_csv('Question3.csv')"
      ],
      "metadata": {
        "id": "NSm9iW_5p5de"
      },
      "execution_count": 33,
      "outputs": []
    },
    {
      "cell_type": "code",
      "source": [
        "data_3.head()"
      ],
      "metadata": {
        "colab": {
          "base_uri": "https://localhost:8080/",
          "height": 206
        },
        "id": "MtnDNsWpjI2z",
        "outputId": "301c0c2a-c760-4748-dca3-7f5245b29072"
      },
      "execution_count": 34,
      "outputs": [
        {
          "output_type": "execute_result",
          "data": {
            "text/plain": [
              "   SID  EID                                      Events\n",
              "0    1    1  ['20', '21', '25', '39', '46', '52', '58']\n",
              "1    1    2                     ['0', '42', '52', '69']\n",
              "2    1    3                          ['43', '56', '98']\n",
              "3    1    4                          ['27', '40', '73']\n",
              "4    2    1                          ['20', '43', '58']"
            ],
            "text/html": [
              "\n",
              "  <div id=\"df-9c347fe6-c39e-4772-9b2f-422c9e4933db\">\n",
              "    <div class=\"colab-df-container\">\n",
              "      <div>\n",
              "<style scoped>\n",
              "    .dataframe tbody tr th:only-of-type {\n",
              "        vertical-align: middle;\n",
              "    }\n",
              "\n",
              "    .dataframe tbody tr th {\n",
              "        vertical-align: top;\n",
              "    }\n",
              "\n",
              "    .dataframe thead th {\n",
              "        text-align: right;\n",
              "    }\n",
              "</style>\n",
              "<table border=\"1\" class=\"dataframe\">\n",
              "  <thead>\n",
              "    <tr style=\"text-align: right;\">\n",
              "      <th></th>\n",
              "      <th>SID</th>\n",
              "      <th>EID</th>\n",
              "      <th>Events</th>\n",
              "    </tr>\n",
              "  </thead>\n",
              "  <tbody>\n",
              "    <tr>\n",
              "      <th>0</th>\n",
              "      <td>1</td>\n",
              "      <td>1</td>\n",
              "      <td>['20', '21', '25', '39', '46', '52', '58']</td>\n",
              "    </tr>\n",
              "    <tr>\n",
              "      <th>1</th>\n",
              "      <td>1</td>\n",
              "      <td>2</td>\n",
              "      <td>['0', '42', '52', '69']</td>\n",
              "    </tr>\n",
              "    <tr>\n",
              "      <th>2</th>\n",
              "      <td>1</td>\n",
              "      <td>3</td>\n",
              "      <td>['43', '56', '98']</td>\n",
              "    </tr>\n",
              "    <tr>\n",
              "      <th>3</th>\n",
              "      <td>1</td>\n",
              "      <td>4</td>\n",
              "      <td>['27', '40', '73']</td>\n",
              "    </tr>\n",
              "    <tr>\n",
              "      <th>4</th>\n",
              "      <td>2</td>\n",
              "      <td>1</td>\n",
              "      <td>['20', '43', '58']</td>\n",
              "    </tr>\n",
              "  </tbody>\n",
              "</table>\n",
              "</div>\n",
              "      <button class=\"colab-df-convert\" onclick=\"convertToInteractive('df-9c347fe6-c39e-4772-9b2f-422c9e4933db')\"\n",
              "              title=\"Convert this dataframe to an interactive table.\"\n",
              "              style=\"display:none;\">\n",
              "        \n",
              "  <svg xmlns=\"http://www.w3.org/2000/svg\" height=\"24px\"viewBox=\"0 0 24 24\"\n",
              "       width=\"24px\">\n",
              "    <path d=\"M0 0h24v24H0V0z\" fill=\"none\"/>\n",
              "    <path d=\"M18.56 5.44l.94 2.06.94-2.06 2.06-.94-2.06-.94-.94-2.06-.94 2.06-2.06.94zm-11 1L8.5 8.5l.94-2.06 2.06-.94-2.06-.94L8.5 2.5l-.94 2.06-2.06.94zm10 10l.94 2.06.94-2.06 2.06-.94-2.06-.94-.94-2.06-.94 2.06-2.06.94z\"/><path d=\"M17.41 7.96l-1.37-1.37c-.4-.4-.92-.59-1.43-.59-.52 0-1.04.2-1.43.59L10.3 9.45l-7.72 7.72c-.78.78-.78 2.05 0 2.83L4 21.41c.39.39.9.59 1.41.59.51 0 1.02-.2 1.41-.59l7.78-7.78 2.81-2.81c.8-.78.8-2.07 0-2.86zM5.41 20L4 18.59l7.72-7.72 1.47 1.35L5.41 20z\"/>\n",
              "  </svg>\n",
              "      </button>\n",
              "      \n",
              "  <style>\n",
              "    .colab-df-container {\n",
              "      display:flex;\n",
              "      flex-wrap:wrap;\n",
              "      gap: 12px;\n",
              "    }\n",
              "\n",
              "    .colab-df-convert {\n",
              "      background-color: #E8F0FE;\n",
              "      border: none;\n",
              "      border-radius: 50%;\n",
              "      cursor: pointer;\n",
              "      display: none;\n",
              "      fill: #1967D2;\n",
              "      height: 32px;\n",
              "      padding: 0 0 0 0;\n",
              "      width: 32px;\n",
              "    }\n",
              "\n",
              "    .colab-df-convert:hover {\n",
              "      background-color: #E2EBFA;\n",
              "      box-shadow: 0px 1px 2px rgba(60, 64, 67, 0.3), 0px 1px 3px 1px rgba(60, 64, 67, 0.15);\n",
              "      fill: #174EA6;\n",
              "    }\n",
              "\n",
              "    [theme=dark] .colab-df-convert {\n",
              "      background-color: #3B4455;\n",
              "      fill: #D2E3FC;\n",
              "    }\n",
              "\n",
              "    [theme=dark] .colab-df-convert:hover {\n",
              "      background-color: #434B5C;\n",
              "      box-shadow: 0px 1px 3px 1px rgba(0, 0, 0, 0.15);\n",
              "      filter: drop-shadow(0px 1px 2px rgba(0, 0, 0, 0.3));\n",
              "      fill: #FFFFFF;\n",
              "    }\n",
              "  </style>\n",
              "\n",
              "      <script>\n",
              "        const buttonEl =\n",
              "          document.querySelector('#df-9c347fe6-c39e-4772-9b2f-422c9e4933db button.colab-df-convert');\n",
              "        buttonEl.style.display =\n",
              "          google.colab.kernel.accessAllowed ? 'block' : 'none';\n",
              "\n",
              "        async function convertToInteractive(key) {\n",
              "          const element = document.querySelector('#df-9c347fe6-c39e-4772-9b2f-422c9e4933db');\n",
              "          const dataTable =\n",
              "            await google.colab.kernel.invokeFunction('convertToInteractive',\n",
              "                                                     [key], {});\n",
              "          if (!dataTable) return;\n",
              "\n",
              "          const docLinkHtml = 'Like what you see? Visit the ' +\n",
              "            '<a target=\"_blank\" href=https://colab.research.google.com/notebooks/data_table.ipynb>data table notebook</a>'\n",
              "            + ' to learn more about interactive tables.';\n",
              "          element.innerHTML = '';\n",
              "          dataTable['output_type'] = 'display_data';\n",
              "          await google.colab.output.renderOutput(dataTable, element);\n",
              "          const docLink = document.createElement('div');\n",
              "          docLink.innerHTML = docLinkHtml;\n",
              "          element.appendChild(docLink);\n",
              "        }\n",
              "      </script>\n",
              "    </div>\n",
              "  </div>\n",
              "  "
            ]
          },
          "metadata": {},
          "execution_count": 34
        }
      ]
    },
    {
      "cell_type": "code",
      "source": [
        "with open('q3_events.txt', 'w') as f:\n",
        "  sid=1\n",
        "  for index,row in data_3.iterrows():\n",
        "    sid_curr = row['SID']\n",
        "    if sid == sid_curr:\n",
        "      f.write((row['Events'][1:-1]).replace(',','').replace(\"'\",'') +' -1 ')\n",
        "    else:\n",
        "      sid=row['SID']\n",
        "      f.write('-2\\n')\n",
        "      f.write((row['Events'][1:-1]).replace(',','').replace(\"'\",'') +' -1 ')\n",
        "  f.write('-2\\n')"
      ],
      "metadata": {
        "id": "cZXiWScRp2Ua"
      },
      "execution_count": 35,
      "outputs": []
    },
    {
      "cell_type": "code",
      "source": [
        "spmf = Spmf(\"PrefixSpan\", input_filename='q3_events.txt',output_filename=f'output_3.txt', arguments=[0.3])\n",
        "spmf.run()\n",
        "df_3_pat = spmf.to_pandas_dataframe(pickle=True)"
      ],
      "metadata": {
        "id": "ZI8nxpnxtiwn",
        "colab": {
          "base_uri": "https://localhost:8080/"
        },
        "outputId": "26304d5a-8b2d-4a13-d193-c54adae8ee4c"
      },
      "execution_count": 36,
      "outputs": [
        {
          "output_type": "stream",
          "name": "stdout",
          "text": [
            ">/usr/local/lib/python3.8/dist-packages/spmf/spmf.jar\n",
            "=============  PREFIXSPAN 0.99-2016 - STATISTICS =============\n",
            " Total time ~ 99 ms\n",
            " Frequent sequences count : 120\n",
            " Max memory (mb) : 10.69921875\n",
            " minsup = 90 sequences.\n",
            " Pattern count : 120\n",
            "===================================================\n",
            "\n",
            "\n"
          ]
        }
      ]
    },
    {
      "cell_type": "code",
      "source": [
        "sorted([(i[0],i[1]) for i in df_3_pat.to_records(index=False)  if ('20 58' in i[0] or '58 20' in i[0]) and len(i[0])>1],key = lambda x:x[1],reverse =True)"
      ],
      "metadata": {
        "colab": {
          "base_uri": "https://localhost:8080/"
        },
        "id": "3wYnNEFqisFX",
        "outputId": "93816ab6-387c-46e6-824d-b33fdcf27a84"
      },
      "execution_count": 37,
      "outputs": [
        {
          "output_type": "execute_result",
          "data": {
            "text/plain": [
              "[(['20 58', '40'], 122),\n",
              " (['20', '20 58'], 117),\n",
              " (['40', '20 58'], 115),\n",
              " (['20 58', '43'], 113),\n",
              " (['20 58', '20'], 112),\n",
              " (['58', '20 58'], 105),\n",
              " (['20 58', '58'], 103),\n",
              " (['43', '20 58'], 103),\n",
              " (['20 58', '20 58'], 102),\n",
              " (['46', '20 58'], 98)]"
            ]
          },
          "metadata": {},
          "execution_count": 37
        }
      ]
    },
    {
      "cell_type": "markdown",
      "source": [
        "we want to increase site profits, we will suggest to the client the to purch item number '40' because this item buy togther with item's 20,58 in maxmial number. "
      ],
      "metadata": {
        "id": "bHf-82ThlN8v"
      }
    },
    {
      "cell_type": "markdown",
      "source": [
        "**Q - 3.2** "
      ],
      "metadata": {
        "id": "9p2XIRzCi07T"
      }
    },
    {
      "cell_type": "code",
      "source": [
        "data_3.groupby(['Events'])['Events'].count().sort_values(ascending=False)"
      ],
      "metadata": {
        "colab": {
          "base_uri": "https://localhost:8080/"
        },
        "id": "bSkGLYrrxpvG",
        "outputId": "987e501d-60bf-40b6-b0b2-66042325343c"
      },
      "execution_count": 38,
      "outputs": [
        {
          "output_type": "execute_result",
          "data": {
            "text/plain": [
              "Events\n",
              "['27', '40', '73']                                                          157\n",
              "['20', '43', '58']                                                          134\n",
              "['20', '46', '55', '58', '81', '94']                                         76\n",
              "['43', '56', '98']                                                           75\n",
              "['21', '39', '46', '52']                                                     69\n",
              "                                                                           ... \n",
              "['20', '27', '46', '55', '58', '73', '81', '94']                              1\n",
              "['20', '27', '40', '43', '58']                                                1\n",
              "['20', '27', '40', '43', '56', '58', '73', '98']                              1\n",
              "['20', '27', '40', '43', '46', '55', '56', '58', '73', '81', '94', '98']      1\n",
              "['58']                                                                        1\n",
              "Name: Events, Length: 154, dtype: int64"
            ]
          },
          "metadata": {},
          "execution_count": 38
        }
      ]
    },
    {
      "cell_type": "markdown",
      "source": [
        "27,40,73  this is the items that client buy in the most frequent purchase"
      ],
      "metadata": {
        "id": "Uj1W_Xj59gG0"
      }
    },
    {
      "cell_type": "markdown",
      "source": [
        "**Q - 3.3**"
      ],
      "metadata": {
        "id": "2r5UFAkxi1R5"
      }
    },
    {
      "cell_type": "code",
      "source": [
        "sorted([(i[0],i[1]) for i in df_3_pat.to_records(index=False)  if any('39' in j for j in i[0])],key = lambda x:x[1],reverse =True)"
      ],
      "metadata": {
        "id": "radsV0OOu72T",
        "colab": {
          "base_uri": "https://localhost:8080/"
        },
        "outputId": "5b6f1b12-9765-4722-8243-a04601e2fe12"
      },
      "execution_count": 39,
      "outputs": [
        {
          "output_type": "execute_result",
          "data": {
            "text/plain": [
              "[(['39'], 92),\n",
              " (['39 52'], 91),\n",
              " (['39 46'], 91),\n",
              " (['21 39'], 90),\n",
              " (['21 39 46'], 90)]"
            ]
          },
          "metadata": {},
          "execution_count": 39
        }
      ]
    },
    {
      "cell_type": "markdown",
      "source": [
        "52 , 46, 21 this is the items that client which buy items 39 may be interested.\n"
      ],
      "metadata": {
        "id": "KfdqzcGno1b5"
      }
    },
    {
      "cell_type": "markdown",
      "source": [
        "#Q4#\n"
      ],
      "metadata": {
        "id": "CZoVfkA1u-bQ"
      }
    },
    {
      "cell_type": "markdown",
      "source": [
        "**Q - 4.1**"
      ],
      "metadata": {
        "id": "XmQUzSTbu_We"
      }
    },
    {
      "cell_type": "code",
      "source": [
        "d = {'SID':[1,2,3,4],'Sequence':[[2,-1,1,5,-1,2,3,-1,5,-1,-2],[1,5,-1,1,2,-1,5,-1,4,-1,-2],[2,-1,5,-1,4,-1,1,5,-1,-2],[2,3,-1,5,-1,1,4,-1,-2]]}"
      ],
      "metadata": {
        "id": "ImAxwVTzqT1T"
      },
      "execution_count": 40,
      "outputs": []
    },
    {
      "cell_type": "code",
      "source": [
        "df_4 = pd.DataFrame(d)"
      ],
      "metadata": {
        "id": "SHDjyMEArVjI"
      },
      "execution_count": 41,
      "outputs": []
    },
    {
      "cell_type": "code",
      "source": [
        "df_4"
      ],
      "metadata": {
        "colab": {
          "base_uri": "https://localhost:8080/",
          "height": 175
        },
        "id": "C4-817SxrbEw",
        "outputId": "aefc3d22-12db-4bc7-cb7a-ba4ddda784a3"
      },
      "execution_count": 42,
      "outputs": [
        {
          "output_type": "execute_result",
          "data": {
            "text/plain": [
              "   SID                                Sequence\n",
              "0    1  [2, -1, 1, 5, -1, 2, 3, -1, 5, -1, -2]\n",
              "1    2  [1, 5, -1, 1, 2, -1, 5, -1, 4, -1, -2]\n",
              "2    3     [2, -1, 5, -1, 4, -1, 1, 5, -1, -2]\n",
              "3    4         [2, 3, -1, 5, -1, 1, 4, -1, -2]"
            ],
            "text/html": [
              "\n",
              "  <div id=\"df-82ecf8db-da70-464a-a771-251ba1dc72e2\">\n",
              "    <div class=\"colab-df-container\">\n",
              "      <div>\n",
              "<style scoped>\n",
              "    .dataframe tbody tr th:only-of-type {\n",
              "        vertical-align: middle;\n",
              "    }\n",
              "\n",
              "    .dataframe tbody tr th {\n",
              "        vertical-align: top;\n",
              "    }\n",
              "\n",
              "    .dataframe thead th {\n",
              "        text-align: right;\n",
              "    }\n",
              "</style>\n",
              "<table border=\"1\" class=\"dataframe\">\n",
              "  <thead>\n",
              "    <tr style=\"text-align: right;\">\n",
              "      <th></th>\n",
              "      <th>SID</th>\n",
              "      <th>Sequence</th>\n",
              "    </tr>\n",
              "  </thead>\n",
              "  <tbody>\n",
              "    <tr>\n",
              "      <th>0</th>\n",
              "      <td>1</td>\n",
              "      <td>[2, -1, 1, 5, -1, 2, 3, -1, 5, -1, -2]</td>\n",
              "    </tr>\n",
              "    <tr>\n",
              "      <th>1</th>\n",
              "      <td>2</td>\n",
              "      <td>[1, 5, -1, 1, 2, -1, 5, -1, 4, -1, -2]</td>\n",
              "    </tr>\n",
              "    <tr>\n",
              "      <th>2</th>\n",
              "      <td>3</td>\n",
              "      <td>[2, -1, 5, -1, 4, -1, 1, 5, -1, -2]</td>\n",
              "    </tr>\n",
              "    <tr>\n",
              "      <th>3</th>\n",
              "      <td>4</td>\n",
              "      <td>[2, 3, -1, 5, -1, 1, 4, -1, -2]</td>\n",
              "    </tr>\n",
              "  </tbody>\n",
              "</table>\n",
              "</div>\n",
              "      <button class=\"colab-df-convert\" onclick=\"convertToInteractive('df-82ecf8db-da70-464a-a771-251ba1dc72e2')\"\n",
              "              title=\"Convert this dataframe to an interactive table.\"\n",
              "              style=\"display:none;\">\n",
              "        \n",
              "  <svg xmlns=\"http://www.w3.org/2000/svg\" height=\"24px\"viewBox=\"0 0 24 24\"\n",
              "       width=\"24px\">\n",
              "    <path d=\"M0 0h24v24H0V0z\" fill=\"none\"/>\n",
              "    <path d=\"M18.56 5.44l.94 2.06.94-2.06 2.06-.94-2.06-.94-.94-2.06-.94 2.06-2.06.94zm-11 1L8.5 8.5l.94-2.06 2.06-.94-2.06-.94L8.5 2.5l-.94 2.06-2.06.94zm10 10l.94 2.06.94-2.06 2.06-.94-2.06-.94-.94-2.06-.94 2.06-2.06.94z\"/><path d=\"M17.41 7.96l-1.37-1.37c-.4-.4-.92-.59-1.43-.59-.52 0-1.04.2-1.43.59L10.3 9.45l-7.72 7.72c-.78.78-.78 2.05 0 2.83L4 21.41c.39.39.9.59 1.41.59.51 0 1.02-.2 1.41-.59l7.78-7.78 2.81-2.81c.8-.78.8-2.07 0-2.86zM5.41 20L4 18.59l7.72-7.72 1.47 1.35L5.41 20z\"/>\n",
              "  </svg>\n",
              "      </button>\n",
              "      \n",
              "  <style>\n",
              "    .colab-df-container {\n",
              "      display:flex;\n",
              "      flex-wrap:wrap;\n",
              "      gap: 12px;\n",
              "    }\n",
              "\n",
              "    .colab-df-convert {\n",
              "      background-color: #E8F0FE;\n",
              "      border: none;\n",
              "      border-radius: 50%;\n",
              "      cursor: pointer;\n",
              "      display: none;\n",
              "      fill: #1967D2;\n",
              "      height: 32px;\n",
              "      padding: 0 0 0 0;\n",
              "      width: 32px;\n",
              "    }\n",
              "\n",
              "    .colab-df-convert:hover {\n",
              "      background-color: #E2EBFA;\n",
              "      box-shadow: 0px 1px 2px rgba(60, 64, 67, 0.3), 0px 1px 3px 1px rgba(60, 64, 67, 0.15);\n",
              "      fill: #174EA6;\n",
              "    }\n",
              "\n",
              "    [theme=dark] .colab-df-convert {\n",
              "      background-color: #3B4455;\n",
              "      fill: #D2E3FC;\n",
              "    }\n",
              "\n",
              "    [theme=dark] .colab-df-convert:hover {\n",
              "      background-color: #434B5C;\n",
              "      box-shadow: 0px 1px 3px 1px rgba(0, 0, 0, 0.15);\n",
              "      filter: drop-shadow(0px 1px 2px rgba(0, 0, 0, 0.3));\n",
              "      fill: #FFFFFF;\n",
              "    }\n",
              "  </style>\n",
              "\n",
              "      <script>\n",
              "        const buttonEl =\n",
              "          document.querySelector('#df-82ecf8db-da70-464a-a771-251ba1dc72e2 button.colab-df-convert');\n",
              "        buttonEl.style.display =\n",
              "          google.colab.kernel.accessAllowed ? 'block' : 'none';\n",
              "\n",
              "        async function convertToInteractive(key) {\n",
              "          const element = document.querySelector('#df-82ecf8db-da70-464a-a771-251ba1dc72e2');\n",
              "          const dataTable =\n",
              "            await google.colab.kernel.invokeFunction('convertToInteractive',\n",
              "                                                     [key], {});\n",
              "          if (!dataTable) return;\n",
              "\n",
              "          const docLinkHtml = 'Like what you see? Visit the ' +\n",
              "            '<a target=\"_blank\" href=https://colab.research.google.com/notebooks/data_table.ipynb>data table notebook</a>'\n",
              "            + ' to learn more about interactive tables.';\n",
              "          element.innerHTML = '';\n",
              "          dataTable['output_type'] = 'display_data';\n",
              "          await google.colab.output.renderOutput(dataTable, element);\n",
              "          const docLink = document.createElement('div');\n",
              "          docLink.innerHTML = docLinkHtml;\n",
              "          element.appendChild(docLink);\n",
              "        }\n",
              "      </script>\n",
              "    </div>\n",
              "  </div>\n",
              "  "
            ]
          },
          "metadata": {},
          "execution_count": 42
        }
      ]
    },
    {
      "cell_type": "code",
      "source": [
        "with open('q4_Sequence.txt', 'w') as f:\n",
        "  for index,row in df_4.iterrows():\n",
        "    f.write(str(row['Sequence'])[1:-1].replace(',',''))\n",
        "    f.write('\\n')"
      ],
      "metadata": {
        "id": "cQnBfGcmrjQ6"
      },
      "execution_count": 43,
      "outputs": []
    },
    {
      "cell_type": "code",
      "source": [
        "spmf = Spmf(\"PrefixSpan\", input_filename='q4_Sequence.txt',output_filename=f'Q4_out.txt', arguments=[0.5])\n",
        "spmf.run()\n",
        "df_4_pat = spmf.to_pandas_dataframe(pickle=True)"
      ],
      "metadata": {
        "colab": {
          "base_uri": "https://localhost:8080/"
        },
        "id": "BDxeGPH4x4Od",
        "outputId": "28800c28-635f-4d7b-e5d8-32455ef4435a"
      },
      "execution_count": 44,
      "outputs": [
        {
          "output_type": "stream",
          "name": "stdout",
          "text": [
            ">/usr/local/lib/python3.8/dist-packages/spmf/spmf.jar\n",
            "=============  PREFIXSPAN 0.99-2016 - STATISTICS =============\n",
            " Total time ~ 4 ms\n",
            " Frequent sequences count : 27\n",
            " Max memory (mb) : 7.901313781738281\n",
            " minsup = 2 sequences.\n",
            " Pattern count : 27\n",
            "===================================================\n",
            "\n",
            "\n"
          ]
        }
      ]
    },
    {
      "cell_type": "code",
      "source": [
        "df_4_pat"
      ],
      "metadata": {
        "colab": {
          "base_uri": "https://localhost:8080/",
          "height": 896
        },
        "id": "MLPuFbYf4tbV",
        "outputId": "a6b1c410-7f3e-49be-de97-73830c5d5076"
      },
      "execution_count": 45,
      "outputs": [
        {
          "output_type": "execute_result",
          "data": {
            "text/plain": [
              "        pattern  sup\n",
              "0           [1]    4\n",
              "1         [1 5]    3\n",
              "2      [1 5, 2]    2\n",
              "3   [1 5, 2, 5]    2\n",
              "4      [1 5, 5]    2\n",
              "5        [1, 2]    2\n",
              "6     [1, 2, 5]    2\n",
              "7        [1, 5]    2\n",
              "8           [2]    4\n",
              "9         [2 3]    2\n",
              "10     [2 3, 5]    2\n",
              "11       [2, 1]    3\n",
              "12     [2, 1 5]    2\n",
              "13       [2, 4]    3\n",
              "14       [2, 5]    4\n",
              "15    [2, 5, 1]    2\n",
              "16    [2, 5, 4]    3\n",
              "17    [2, 5, 5]    2\n",
              "18          [3]    2\n",
              "19       [3, 5]    2\n",
              "20          [4]    3\n",
              "21          [5]    4\n",
              "22       [5, 1]    3\n",
              "23       [5, 2]    2\n",
              "24    [5, 2, 5]    2\n",
              "25       [5, 4]    3\n",
              "26       [5, 5]    3"
            ],
            "text/html": [
              "\n",
              "  <div id=\"df-dd970e3a-620c-45e6-8127-075c9bddac8d\">\n",
              "    <div class=\"colab-df-container\">\n",
              "      <div>\n",
              "<style scoped>\n",
              "    .dataframe tbody tr th:only-of-type {\n",
              "        vertical-align: middle;\n",
              "    }\n",
              "\n",
              "    .dataframe tbody tr th {\n",
              "        vertical-align: top;\n",
              "    }\n",
              "\n",
              "    .dataframe thead th {\n",
              "        text-align: right;\n",
              "    }\n",
              "</style>\n",
              "<table border=\"1\" class=\"dataframe\">\n",
              "  <thead>\n",
              "    <tr style=\"text-align: right;\">\n",
              "      <th></th>\n",
              "      <th>pattern</th>\n",
              "      <th>sup</th>\n",
              "    </tr>\n",
              "  </thead>\n",
              "  <tbody>\n",
              "    <tr>\n",
              "      <th>0</th>\n",
              "      <td>[1]</td>\n",
              "      <td>4</td>\n",
              "    </tr>\n",
              "    <tr>\n",
              "      <th>1</th>\n",
              "      <td>[1 5]</td>\n",
              "      <td>3</td>\n",
              "    </tr>\n",
              "    <tr>\n",
              "      <th>2</th>\n",
              "      <td>[1 5, 2]</td>\n",
              "      <td>2</td>\n",
              "    </tr>\n",
              "    <tr>\n",
              "      <th>3</th>\n",
              "      <td>[1 5, 2, 5]</td>\n",
              "      <td>2</td>\n",
              "    </tr>\n",
              "    <tr>\n",
              "      <th>4</th>\n",
              "      <td>[1 5, 5]</td>\n",
              "      <td>2</td>\n",
              "    </tr>\n",
              "    <tr>\n",
              "      <th>5</th>\n",
              "      <td>[1, 2]</td>\n",
              "      <td>2</td>\n",
              "    </tr>\n",
              "    <tr>\n",
              "      <th>6</th>\n",
              "      <td>[1, 2, 5]</td>\n",
              "      <td>2</td>\n",
              "    </tr>\n",
              "    <tr>\n",
              "      <th>7</th>\n",
              "      <td>[1, 5]</td>\n",
              "      <td>2</td>\n",
              "    </tr>\n",
              "    <tr>\n",
              "      <th>8</th>\n",
              "      <td>[2]</td>\n",
              "      <td>4</td>\n",
              "    </tr>\n",
              "    <tr>\n",
              "      <th>9</th>\n",
              "      <td>[2 3]</td>\n",
              "      <td>2</td>\n",
              "    </tr>\n",
              "    <tr>\n",
              "      <th>10</th>\n",
              "      <td>[2 3, 5]</td>\n",
              "      <td>2</td>\n",
              "    </tr>\n",
              "    <tr>\n",
              "      <th>11</th>\n",
              "      <td>[2, 1]</td>\n",
              "      <td>3</td>\n",
              "    </tr>\n",
              "    <tr>\n",
              "      <th>12</th>\n",
              "      <td>[2, 1 5]</td>\n",
              "      <td>2</td>\n",
              "    </tr>\n",
              "    <tr>\n",
              "      <th>13</th>\n",
              "      <td>[2, 4]</td>\n",
              "      <td>3</td>\n",
              "    </tr>\n",
              "    <tr>\n",
              "      <th>14</th>\n",
              "      <td>[2, 5]</td>\n",
              "      <td>4</td>\n",
              "    </tr>\n",
              "    <tr>\n",
              "      <th>15</th>\n",
              "      <td>[2, 5, 1]</td>\n",
              "      <td>2</td>\n",
              "    </tr>\n",
              "    <tr>\n",
              "      <th>16</th>\n",
              "      <td>[2, 5, 4]</td>\n",
              "      <td>3</td>\n",
              "    </tr>\n",
              "    <tr>\n",
              "      <th>17</th>\n",
              "      <td>[2, 5, 5]</td>\n",
              "      <td>2</td>\n",
              "    </tr>\n",
              "    <tr>\n",
              "      <th>18</th>\n",
              "      <td>[3]</td>\n",
              "      <td>2</td>\n",
              "    </tr>\n",
              "    <tr>\n",
              "      <th>19</th>\n",
              "      <td>[3, 5]</td>\n",
              "      <td>2</td>\n",
              "    </tr>\n",
              "    <tr>\n",
              "      <th>20</th>\n",
              "      <td>[4]</td>\n",
              "      <td>3</td>\n",
              "    </tr>\n",
              "    <tr>\n",
              "      <th>21</th>\n",
              "      <td>[5]</td>\n",
              "      <td>4</td>\n",
              "    </tr>\n",
              "    <tr>\n",
              "      <th>22</th>\n",
              "      <td>[5, 1]</td>\n",
              "      <td>3</td>\n",
              "    </tr>\n",
              "    <tr>\n",
              "      <th>23</th>\n",
              "      <td>[5, 2]</td>\n",
              "      <td>2</td>\n",
              "    </tr>\n",
              "    <tr>\n",
              "      <th>24</th>\n",
              "      <td>[5, 2, 5]</td>\n",
              "      <td>2</td>\n",
              "    </tr>\n",
              "    <tr>\n",
              "      <th>25</th>\n",
              "      <td>[5, 4]</td>\n",
              "      <td>3</td>\n",
              "    </tr>\n",
              "    <tr>\n",
              "      <th>26</th>\n",
              "      <td>[5, 5]</td>\n",
              "      <td>3</td>\n",
              "    </tr>\n",
              "  </tbody>\n",
              "</table>\n",
              "</div>\n",
              "      <button class=\"colab-df-convert\" onclick=\"convertToInteractive('df-dd970e3a-620c-45e6-8127-075c9bddac8d')\"\n",
              "              title=\"Convert this dataframe to an interactive table.\"\n",
              "              style=\"display:none;\">\n",
              "        \n",
              "  <svg xmlns=\"http://www.w3.org/2000/svg\" height=\"24px\"viewBox=\"0 0 24 24\"\n",
              "       width=\"24px\">\n",
              "    <path d=\"M0 0h24v24H0V0z\" fill=\"none\"/>\n",
              "    <path d=\"M18.56 5.44l.94 2.06.94-2.06 2.06-.94-2.06-.94-.94-2.06-.94 2.06-2.06.94zm-11 1L8.5 8.5l.94-2.06 2.06-.94-2.06-.94L8.5 2.5l-.94 2.06-2.06.94zm10 10l.94 2.06.94-2.06 2.06-.94-2.06-.94-.94-2.06-.94 2.06-2.06.94z\"/><path d=\"M17.41 7.96l-1.37-1.37c-.4-.4-.92-.59-1.43-.59-.52 0-1.04.2-1.43.59L10.3 9.45l-7.72 7.72c-.78.78-.78 2.05 0 2.83L4 21.41c.39.39.9.59 1.41.59.51 0 1.02-.2 1.41-.59l7.78-7.78 2.81-2.81c.8-.78.8-2.07 0-2.86zM5.41 20L4 18.59l7.72-7.72 1.47 1.35L5.41 20z\"/>\n",
              "  </svg>\n",
              "      </button>\n",
              "      \n",
              "  <style>\n",
              "    .colab-df-container {\n",
              "      display:flex;\n",
              "      flex-wrap:wrap;\n",
              "      gap: 12px;\n",
              "    }\n",
              "\n",
              "    .colab-df-convert {\n",
              "      background-color: #E8F0FE;\n",
              "      border: none;\n",
              "      border-radius: 50%;\n",
              "      cursor: pointer;\n",
              "      display: none;\n",
              "      fill: #1967D2;\n",
              "      height: 32px;\n",
              "      padding: 0 0 0 0;\n",
              "      width: 32px;\n",
              "    }\n",
              "\n",
              "    .colab-df-convert:hover {\n",
              "      background-color: #E2EBFA;\n",
              "      box-shadow: 0px 1px 2px rgba(60, 64, 67, 0.3), 0px 1px 3px 1px rgba(60, 64, 67, 0.15);\n",
              "      fill: #174EA6;\n",
              "    }\n",
              "\n",
              "    [theme=dark] .colab-df-convert {\n",
              "      background-color: #3B4455;\n",
              "      fill: #D2E3FC;\n",
              "    }\n",
              "\n",
              "    [theme=dark] .colab-df-convert:hover {\n",
              "      background-color: #434B5C;\n",
              "      box-shadow: 0px 1px 3px 1px rgba(0, 0, 0, 0.15);\n",
              "      filter: drop-shadow(0px 1px 2px rgba(0, 0, 0, 0.3));\n",
              "      fill: #FFFFFF;\n",
              "    }\n",
              "  </style>\n",
              "\n",
              "      <script>\n",
              "        const buttonEl =\n",
              "          document.querySelector('#df-dd970e3a-620c-45e6-8127-075c9bddac8d button.colab-df-convert');\n",
              "        buttonEl.style.display =\n",
              "          google.colab.kernel.accessAllowed ? 'block' : 'none';\n",
              "\n",
              "        async function convertToInteractive(key) {\n",
              "          const element = document.querySelector('#df-dd970e3a-620c-45e6-8127-075c9bddac8d');\n",
              "          const dataTable =\n",
              "            await google.colab.kernel.invokeFunction('convertToInteractive',\n",
              "                                                     [key], {});\n",
              "          if (!dataTable) return;\n",
              "\n",
              "          const docLinkHtml = 'Like what you see? Visit the ' +\n",
              "            '<a target=\"_blank\" href=https://colab.research.google.com/notebooks/data_table.ipynb>data table notebook</a>'\n",
              "            + ' to learn more about interactive tables.';\n",
              "          element.innerHTML = '';\n",
              "          dataTable['output_type'] = 'display_data';\n",
              "          await google.colab.output.renderOutput(dataTable, element);\n",
              "          const docLink = document.createElement('div');\n",
              "          docLink.innerHTML = docLinkHtml;\n",
              "          element.appendChild(docLink);\n",
              "        }\n",
              "      </script>\n",
              "    </div>\n",
              "  </div>\n",
              "  "
            ]
          },
          "metadata": {},
          "execution_count": 45
        }
      ]
    },
    {
      "cell_type": "markdown",
      "source": [
        "**Answer**\n",
        "\n",
        "\n",
        "\n",
        "HS(<2>,1) = 2\n",
        "\n",
        "HS(<2,5>,1) = 3\n",
        "\n",
        "HS(<5>,1) = 2\n",
        "\n",
        "HS(<1>,2) = 2\n",
        "\n",
        "HS(<1,4>,2) = 2\n",
        "\n",
        "HS(<1,5>,2) = 2\n",
        "\n",
        "HS(<5>,2) = 2\n",
        "\n",
        "HS(<5,4>,2) = 2\n",
        "\n",
        "HS(<2,5>,3) = 2\n",
        "\n",
        "HS(<5>,3) = 2"
      ],
      "metadata": {
        "id": "8wJfUTMWVgoJ"
      }
    },
    {
      "cell_type": "markdown",
      "source": [
        "**Q - 4.2**"
      ],
      "metadata": {
        "id": "rmC43JwNvDG8"
      }
    },
    {
      "cell_type": "code",
      "source": [
        "spmf = Spmf(\"PrefixSpan\", input_filename='q4_Sequence.txt',output_filename=f'Q4_out.txt', arguments=[0.5])\n",
        "spmf.run()\n",
        "print(spmf.to_pandas_dataframe(pickle=True))"
      ],
      "metadata": {
        "colab": {
          "base_uri": "https://localhost:8080/"
        },
        "id": "w4hXXfwXphuA",
        "outputId": "a4071020-acbc-44b3-dda3-048242575f11"
      },
      "execution_count": 46,
      "outputs": [
        {
          "output_type": "stream",
          "name": "stdout",
          "text": [
            ">/usr/local/lib/python3.8/dist-packages/spmf/spmf.jar\n",
            "=============  PREFIXSPAN 0.99-2016 - STATISTICS =============\n",
            " Total time ~ 5 ms\n",
            " Frequent sequences count : 27\n",
            " Max memory (mb) : 7.901313781738281\n",
            " minsup = 2 sequences.\n",
            " Pattern count : 27\n",
            "===================================================\n",
            "\n",
            "\n",
            "        pattern  sup\n",
            "0           [1]    4\n",
            "1         [1 5]    3\n",
            "2      [1 5, 2]    2\n",
            "3   [1 5, 2, 5]    2\n",
            "4      [1 5, 5]    2\n",
            "5        [1, 2]    2\n",
            "6     [1, 2, 5]    2\n",
            "7        [1, 5]    2\n",
            "8           [2]    4\n",
            "9         [2 3]    2\n",
            "10     [2 3, 5]    2\n",
            "11       [2, 1]    3\n",
            "12     [2, 1 5]    2\n",
            "13       [2, 4]    3\n",
            "14       [2, 5]    4\n",
            "15    [2, 5, 1]    2\n",
            "16    [2, 5, 4]    3\n",
            "17    [2, 5, 5]    2\n",
            "18          [3]    2\n",
            "19       [3, 5]    2\n",
            "20          [4]    3\n",
            "21          [5]    4\n",
            "22       [5, 1]    3\n",
            "23       [5, 2]    2\n",
            "24    [5, 2, 5]    2\n",
            "25       [5, 4]    3\n",
            "26       [5, 5]    3\n"
          ]
        }
      ]
    },
    {
      "cell_type": "markdown",
      "source": [
        "**Q - 4.3**"
      ],
      "metadata": {
        "id": "n3VJSrp7vDeB"
      }
    },
    {
      "cell_type": "code",
      "source": [
        "spmf = Spmf(\"VMSP\", input_filename='q4_Sequence.txt',output_filename='output_4_max.txt', arguments=[0.5])\n",
        "spmf.run()\n",
        "print(spmf.to_pandas_dataframe(pickle=True))"
      ],
      "metadata": {
        "colab": {
          "base_uri": "https://localhost:8080/"
        },
        "id": "xCKz-WpcpiTS",
        "outputId": "90e72470-9882-4dbb-d4fe-4c5f516eb75f"
      },
      "execution_count": 47,
      "outputs": [
        {
          "output_type": "stream",
          "name": "stdout",
          "text": [
            ">/usr/local/lib/python3.8/dist-packages/spmf/spmf.jar\n",
            "=============  VMSP v0.97 - STATISTICS =============\n",
            " Total time ~ 8 ms\n",
            " Frequent sequences count : 6\n",
            " Max memory (mb) : 7.908996582031256\n",
            "minsup 2\n",
            "Intersection count 46 \n",
            "===================================================\n",
            "\n",
            "\n",
            "       pattern  sup\n",
            "0    [2, 5, 5]    2\n",
            "1    [2, 5, 4]    3\n",
            "2     [2 3, 5]    2\n",
            "3     [2, 1 5]    2\n",
            "4    [2, 5, 1]    2\n",
            "5  [1 5, 2, 5]    2\n"
          ]
        }
      ]
    },
    {
      "cell_type": "code",
      "source": [
        "spmf = Spmf(\"BIDE+\", input_filename='q4_Sequence.txt',output_filename='output_4_close.txt', arguments=[0.5])\n",
        "spmf.run()\n",
        "print(spmf.to_pandas_dataframe(pickle=True))"
      ],
      "metadata": {
        "colab": {
          "base_uri": "https://localhost:8080/"
        },
        "id": "hGHSZkgbfMW7",
        "outputId": "41de9d2d-29f6-4308-dde7-0df47613e4da"
      },
      "execution_count": 48,
      "outputs": [
        {
          "output_type": "stream",
          "name": "stdout",
          "text": [
            ">/usr/local/lib/python3.8/dist-packages/spmf/spmf.jar\n",
            "============  BIDE+ - SPMF 0.99c - 2016 - STATISTICS =====\n",
            " Total time ~ 6 ms\n",
            " Frequent sequences count : 14\n",
            " Max memory (mb) : 7.69921875\n",
            " minsup = 2 sequences.\n",
            " Pattern count : 14\n",
            "==========================================================\n",
            "\n",
            "\n",
            "        pattern  sup\n",
            "0   [1 5, 2, 5]    2\n",
            "1         [1 5]    3\n",
            "2     [1, 2, 5]    2\n",
            "3           [1]    4\n",
            "4      [2 3, 5]    2\n",
            "5      [2, 1 5]    2\n",
            "6        [2, 1]    3\n",
            "7     [2, 5, 1]    2\n",
            "8     [2, 5, 4]    3\n",
            "9     [2, 5, 5]    2\n",
            "10       [2, 5]    4\n",
            "11       [5, 1]    3\n",
            "12       [5, 4]    3\n",
            "13       [5, 5]    3\n"
          ]
        }
      ]
    }
  ]
}